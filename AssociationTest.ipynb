{
 "cells": [
  {
   "cell_type": "code",
   "execution_count": 1,
   "metadata": {
    "collapsed": true
   },
   "outputs": [],
   "source": [
    "#Association tests are useful for binary data\n",
    "#Used if we cant use CLT due to sample size not being large enough\n",
    "#Create a two by two table"
   ]
  },
  {
   "cell_type": "code",
   "execution_count": 5,
   "metadata": {
    "collapsed": false
   },
   "outputs": [
    {
     "data": {
      "text/html": [
       "<table>\n",
       "<thead><tr><th></th><th scope=col>Guessed before</th><th scope=col>Guessed After</th></tr></thead>\n",
       "<tbody>\n",
       "\t<tr><th scope=row>Poured before</th><td>3</td><td>1</td></tr>\n",
       "\t<tr><th scope=row>Poured After</th><td>1</td><td>3</td></tr>\n",
       "</tbody>\n",
       "</table>\n"
      ],
      "text/latex": [
       "\\begin{tabular}{r|ll}\n",
       "  & Guessed before & Guessed After\\\\\n",
       "\\hline\n",
       "\tPoured before & 3 & 1\\\\\n",
       "\tPoured After & 1 & 3\\\\\n",
       "\\end{tabular}\n"
      ],
      "text/markdown": [
       "1. 3\n",
       "2. 1\n",
       "3. 1\n",
       "4. 3\n",
       "\n",
       "\n"
      ],
      "text/plain": [
       "              Guessed before Guessed After\n",
       "Poured before              3             1\n",
       "Poured After               1             3"
      ]
     },
     "execution_count": 5,
     "metadata": {},
     "output_type": "execute_result"
    }
   ],
   "source": [
    "#Lady tasting tea example\n",
    "#Guessing if milk added to cup before or after tea poured\n",
    "#Utilize null hypothesis and p-value is chance of picking 4 out of 4\n",
    "#To generate the p=value we use whats called Fishers Test\n",
    "#There are four choices, so the chance of getting 3 or more right\n",
    "#should be 1/4\n",
    "tab <- matrix(c(3,1,1,3),2,2)\n",
    "rownames(tab) <- c('Poured before','Poured After')\n",
    "colnames(tab) <- c('Guessed before','Guessed After')\n",
    "tab"
   ]
  },
  {
   "cell_type": "code",
   "execution_count": 6,
   "metadata": {
    "collapsed": false
   },
   "outputs": [
    {
     "data": {
      "text/plain": [
       "\n",
       "\tFisher's Exact Test for Count Data\n",
       "\n",
       "data:  tab\n",
       "p-value = 0.2429\n",
       "alternative hypothesis: true odds ratio is greater than 1\n",
       "95 percent confidence interval:\n",
       " 0.3135693       Inf\n",
       "sample estimates:\n",
       "odds ratio \n",
       "  6.408309 \n"
      ]
     },
     "execution_count": 6,
     "metadata": {},
     "output_type": "execute_result"
    }
   ],
   "source": [
    "fisher.test(tab,alternative='greater')"
   ]
  },
  {
   "cell_type": "code",
   "execution_count": null,
   "metadata": {
    "collapsed": true
   },
   "outputs": [],
   "source": []
  }
 ],
 "metadata": {
  "kernelspec": {
   "display_name": "R",
   "language": "R",
   "name": "ir"
  },
  "language_info": {
   "codemirror_mode": "r",
   "file_extension": ".r",
   "mimetype": "text/x-r-source",
   "name": "R",
   "pygments_lexer": "r",
   "version": "3.2.3"
  }
 },
 "nbformat": 4,
 "nbformat_minor": 0
}
