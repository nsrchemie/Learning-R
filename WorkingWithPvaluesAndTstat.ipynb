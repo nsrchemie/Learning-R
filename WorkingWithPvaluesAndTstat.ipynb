{
 "cells": [
  {
   "cell_type": "markdown",
   "metadata": {},
   "source": [
    "# Create t-statistic and retrieve p-value"
   ]
  },
  {
   "cell_type": "code",
   "execution_count": 1,
   "metadata": {
    "collapsed": false
   },
   "outputs": [
    {
     "name": "stderr",
     "output_type": "stream",
     "text": [
      "\n",
      "Attaching package: 'dplyr'\n",
      "\n",
      "The following objects are masked from 'package:stats':\n",
      "\n",
      "    filter, lag\n",
      "\n",
      "The following objects are masked from 'package:base':\n",
      "\n",
      "    intersect, setdiff, setequal, union\n",
      "\n"
     ]
    }
   ],
   "source": [
    "library(dplyr)"
   ]
  },
  {
   "cell_type": "code",
   "execution_count": 2,
   "metadata": {
    "collapsed": false
   },
   "outputs": [
    {
     "data": {
      "text/html": [
       "<ol class=list-inline>\n",
       "\t<li>\"adequatepop.csv\"</li>\n",
       "\t<li>\"adequatewater.csv\"</li>\n",
       "\t<li>\"femaleControlsPopulation.csv\"</li>\n",
       "\t<li>\"femalemiceweights.csv\"</li>\n",
       "\t<li>\"inadequate.csv\"</li>\n",
       "\t<li>\"mice_pheno.csv\"</li>\n",
       "\t<li>\"MicephenotypeCLTapproximations.ipynb\"</li>\n",
       "\t<li>\"Rbasics.ipynb\"</li>\n",
       "\t<li>\"rpractmice.ipynb\"</li>\n",
       "\t<li>\"Untitled.ipynb\"</li>\n",
       "\t<li>\"waterterpenestatusRosmarinus.csv\"</li>\n",
       "</ol>\n"
      ],
      "text/latex": [
       "\\begin{enumerate*}\n",
       "\\item \"adequatepop.csv\"\n",
       "\\item \"adequatewater.csv\"\n",
       "\\item \"femaleControlsPopulation.csv\"\n",
       "\\item \"femalemiceweights.csv\"\n",
       "\\item \"inadequate.csv\"\n",
       "\\item \"mice_pheno.csv\"\n",
       "\\item \"MicephenotypeCLTapproximations.ipynb\"\n",
       "\\item \"Rbasics.ipynb\"\n",
       "\\item \"rpractmice.ipynb\"\n",
       "\\item \"Untitled.ipynb\"\n",
       "\\item \"waterterpenestatusRosmarinus.csv\"\n",
       "\\end{enumerate*}\n"
      ],
      "text/markdown": [
       "1. \"adequatepop.csv\"\n",
       "2. \"adequatewater.csv\"\n",
       "3. \"femaleControlsPopulation.csv\"\n",
       "4. \"femalemiceweights.csv\"\n",
       "5. \"inadequate.csv\"\n",
       "6. \"mice_pheno.csv\"\n",
       "7. \"MicephenotypeCLTapproximations.ipynb\"\n",
       "8. \"Rbasics.ipynb\"\n",
       "9. \"rpractmice.ipynb\"\n",
       "10. \"Untitled.ipynb\"\n",
       "11. \"waterterpenestatusRosmarinus.csv\"\n",
       "\n",
       "\n"
      ],
      "text/plain": [
       " [1] \"adequatepop.csv\"                     \n",
       " [2] \"adequatewater.csv\"                   \n",
       " [3] \"femaleControlsPopulation.csv\"        \n",
       " [4] \"femalemiceweights.csv\"               \n",
       " [5] \"inadequate.csv\"                      \n",
       " [6] \"mice_pheno.csv\"                      \n",
       " [7] \"MicephenotypeCLTapproximations.ipynb\"\n",
       " [8] \"Rbasics.ipynb\"                       \n",
       " [9] \"rpractmice.ipynb\"                    \n",
       "[10] \"Untitled.ipynb\"                      \n",
       "[11] \"waterterpenestatusRosmarinus.csv\"    "
      ]
     },
     "execution_count": 2,
     "metadata": {},
     "output_type": "execute_result"
    }
   ],
   "source": [
    "dir()"
   ]
  },
  {
   "cell_type": "code",
   "execution_count": 8,
   "metadata": {
    "collapsed": false
   },
   "outputs": [
    {
     "data": {
      "text/html": [
       "3.02083333333334"
      ],
      "text/latex": [
       "3.02083333333334"
      ],
      "text/markdown": [
       "3.02083333333334"
      ],
      "text/plain": [
       "[1] 3.020833"
      ]
     },
     "execution_count": 8,
     "metadata": {},
     "output_type": "execute_result"
    },
    {
     "data": {
      "text/html": [
       "0.872532306715703"
      ],
      "text/latex": [
       "0.872532306715703"
      ],
      "text/markdown": [
       "0.872532306715703"
      ],
      "text/plain": [
       "[1] 0.8725323"
      ]
     },
     "execution_count": 8,
     "metadata": {},
     "output_type": "execute_result"
    },
    {
     "data": {
      "text/html": [
       "1.46986743973871"
      ],
      "text/latex": [
       "1.46986743973871"
      ],
      "text/markdown": [
       "1.46986743973871"
      ],
      "text/plain": [
       "[1] 1.469867"
      ]
     },
     "execution_count": 8,
     "metadata": {},
     "output_type": "execute_result"
    }
   ],
   "source": [
    "dat <- read.csv('femalemiceweights.csv')\n",
    "#filter values according to diet types, \n",
    "#strip unnecessary labeling ('bodyweight') \n",
    "#and convert values to numeric vectors\n",
    "control <- filter(dat,Diet=='chow') %>% select(Bodyweight) %>% unlist\n",
    "treatment <- filter(dat,Diet=='hf') %>% select(Bodyweight) %>% unlist\n",
    "\n",
    "\n",
    "#diff var == observed effect size\n",
    "diff <- mean(treatment) - mean(control)\n",
    "diff\n",
    "\n",
    "#Standard error of the sample average\n",
    "se <- sd(control)/sqrt(length(control))\n",
    "se\n",
    "\n",
    "#Standard error of diff\n",
    "sediff <- sqrt(var(treatment)/length(treatment) + var(control)/length(control))\n",
    "sediff"
   ]
  },
  {
   "cell_type": "code",
   "execution_count": 9,
   "metadata": {
    "collapsed": false
   },
   "outputs": [
    {
     "data": {
      "text/html": [
       "2.05517399165623"
      ],
      "text/latex": [
       "2.05517399165623"
      ],
      "text/markdown": [
       "2.05517399165623"
      ],
      "text/plain": [
       "[1] 2.055174"
      ]
     },
     "execution_count": 9,
     "metadata": {},
     "output_type": "execute_result"
    }
   ],
   "source": [
    "#Divide a random var. by its Standard Error, new random var. will have SE of 1\n",
    "tstat <- diff/sediff\n",
    "tstat"
   ]
  },
  {
   "cell_type": "code",
   "execution_count": null,
   "metadata": {
    "collapsed": true
   },
   "outputs": [],
   "source": []
  }
 ],
 "metadata": {
  "kernelspec": {
   "display_name": "R",
   "language": "R",
   "name": "ir"
  },
  "language_info": {
   "codemirror_mode": "r",
   "file_extension": ".r",
   "mimetype": "text/x-r-source",
   "name": "R",
   "pygments_lexer": "r",
   "version": "3.2.3"
  }
 },
 "nbformat": 4,
 "nbformat_minor": 0
}
