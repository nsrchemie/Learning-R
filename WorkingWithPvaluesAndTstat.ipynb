{
 "cells": [
  {
   "cell_type": "markdown",
   "metadata": {},
   "source": [
    "# Create t-statistic and retrieve p-value"
   ]
  },
  {
   "cell_type": "code",
   "execution_count": 2,
   "metadata": {
    "collapsed": false
   },
   "outputs": [
    {
     "name": "stderr",
     "output_type": "stream",
     "text": [
      "\n",
      "Attaching package: 'dplyr'\n",
      "\n",
      "The following objects are masked from 'package:stats':\n",
      "\n",
      "    filter, lag\n",
      "\n",
      "The following objects are masked from 'package:base':\n",
      "\n",
      "    intersect, setdiff, setequal, union\n",
      "\n"
     ]
    }
   ],
   "source": [
    "library(dplyr)"
   ]
  },
  {
   "cell_type": "code",
   "execution_count": 3,
   "metadata": {
    "collapsed": false
   },
   "outputs": [
    {
     "data": {
      "text/html": [
       "<ol class=list-inline>\n",
       "\t<li>\"adequatepop.csv\"</li>\n",
       "\t<li>\"adequatewater.csv\"</li>\n",
       "\t<li>\"femaleControlsPopulation.csv\"</li>\n",
       "\t<li>\"femalemiceweights.csv\"</li>\n",
       "\t<li>\"inadequate.csv\"</li>\n",
       "\t<li>\"mice_pheno.csv\"</li>\n",
       "\t<li>\"MicephenotypeCLTapproximations.ipynb\"</li>\n",
       "\t<li>\"Rbasics.ipynb\"</li>\n",
       "\t<li>\"rpractmice.ipynb\"</li>\n",
       "\t<li>\"waterterpenestatusRosmarinus.csv\"</li>\n",
       "\t<li>\"WorkingWithPvaluesAndTstat.ipynb\"</li>\n",
       "</ol>\n"
      ],
      "text/latex": [
       "\\begin{enumerate*}\n",
       "\\item \"adequatepop.csv\"\n",
       "\\item \"adequatewater.csv\"\n",
       "\\item \"femaleControlsPopulation.csv\"\n",
       "\\item \"femalemiceweights.csv\"\n",
       "\\item \"inadequate.csv\"\n",
       "\\item \"mice_pheno.csv\"\n",
       "\\item \"MicephenotypeCLTapproximations.ipynb\"\n",
       "\\item \"Rbasics.ipynb\"\n",
       "\\item \"rpractmice.ipynb\"\n",
       "\\item \"waterterpenestatusRosmarinus.csv\"\n",
       "\\item \"WorkingWithPvaluesAndTstat.ipynb\"\n",
       "\\end{enumerate*}\n"
      ],
      "text/markdown": [
       "1. \"adequatepop.csv\"\n",
       "2. \"adequatewater.csv\"\n",
       "3. \"femaleControlsPopulation.csv\"\n",
       "4. \"femalemiceweights.csv\"\n",
       "5. \"inadequate.csv\"\n",
       "6. \"mice_pheno.csv\"\n",
       "7. \"MicephenotypeCLTapproximations.ipynb\"\n",
       "8. \"Rbasics.ipynb\"\n",
       "9. \"rpractmice.ipynb\"\n",
       "10. \"waterterpenestatusRosmarinus.csv\"\n",
       "11. \"WorkingWithPvaluesAndTstat.ipynb\"\n",
       "\n",
       "\n"
      ],
      "text/plain": [
       " [1] \"adequatepop.csv\"                     \n",
       " [2] \"adequatewater.csv\"                   \n",
       " [3] \"femaleControlsPopulation.csv\"        \n",
       " [4] \"femalemiceweights.csv\"               \n",
       " [5] \"inadequate.csv\"                      \n",
       " [6] \"mice_pheno.csv\"                      \n",
       " [7] \"MicephenotypeCLTapproximations.ipynb\"\n",
       " [8] \"Rbasics.ipynb\"                       \n",
       " [9] \"rpractmice.ipynb\"                    \n",
       "[10] \"waterterpenestatusRosmarinus.csv\"    \n",
       "[11] \"WorkingWithPvaluesAndTstat.ipynb\"    "
      ]
     },
     "execution_count": 3,
     "metadata": {},
     "output_type": "execute_result"
    }
   ],
   "source": [
    "dir()"
   ]
  },
  {
   "cell_type": "code",
   "execution_count": 4,
   "metadata": {
    "collapsed": false
   },
   "outputs": [
    {
     "data": {
      "text/html": [
       "3.02083333333334"
      ],
      "text/latex": [
       "3.02083333333334"
      ],
      "text/markdown": [
       "3.02083333333334"
      ],
      "text/plain": [
       "[1] 3.020833"
      ]
     },
     "execution_count": 4,
     "metadata": {},
     "output_type": "execute_result"
    },
    {
     "data": {
      "text/html": [
       "0.872532306715703"
      ],
      "text/latex": [
       "0.872532306715703"
      ],
      "text/markdown": [
       "0.872532306715703"
      ],
      "text/plain": [
       "[1] 0.8725323"
      ]
     },
     "execution_count": 4,
     "metadata": {},
     "output_type": "execute_result"
    },
    {
     "data": {
      "text/html": [
       "1.46986743973871"
      ],
      "text/latex": [
       "1.46986743973871"
      ],
      "text/markdown": [
       "1.46986743973871"
      ],
      "text/plain": [
       "[1] 1.469867"
      ]
     },
     "execution_count": 4,
     "metadata": {},
     "output_type": "execute_result"
    }
   ],
   "source": [
    "dat <- read.csv('femalemiceweights.csv')\n",
    "#filter values according to diet types, \n",
    "#strip unnecessary labeling ('bodyweight') \n",
    "#and convert values to numeric vectors\n",
    "control <- filter(dat,Diet=='chow') %>% select(Bodyweight) %>% unlist\n",
    "treatment <- filter(dat,Diet=='hf') %>% select(Bodyweight) %>% unlist\n",
    "\n",
    "\n",
    "#diff var == observed effect size\n",
    "diff <- mean(treatment) - mean(control)\n",
    "diff\n",
    "\n",
    "#Standard error of the sample average\n",
    "se <- sd(control)/sqrt(length(control))\n",
    "se\n",
    "\n",
    "#Standard error of diff\n",
    "sediff <- sqrt(var(treatment)/length(treatment) + var(control)/length(control))\n",
    "sediff"
   ]
  },
  {
   "cell_type": "code",
   "execution_count": 5,
   "metadata": {
    "collapsed": false
   },
   "outputs": [
    {
     "data": {
      "text/html": [
       "2.05517399165623"
      ],
      "text/latex": [
       "2.05517399165623"
      ],
      "text/markdown": [
       "2.05517399165623"
      ],
      "text/plain": [
       "[1] 2.055174"
      ]
     },
     "execution_count": 5,
     "metadata": {},
     "output_type": "execute_result"
    }
   ],
   "source": [
    "#Divide a random var. by its Standard Error, new random var. will have SE of 1\n",
    "tstat <- diff/sediff\n",
    "tstat"
   ]
  },
  {
   "cell_type": "code",
   "execution_count": 7,
   "metadata": {
    "collapsed": false
   },
   "outputs": [
    {
     "data": {
      "text/html": [
       "0.0398622022620348"
      ],
      "text/latex": [
       "0.0398622022620348"
      ],
      "text/markdown": [
       "0.0398622022620348"
      ],
      "text/plain": [
       "[1] 0.0398622"
      ]
     },
     "execution_count": 7,
     "metadata": {},
     "output_type": "execute_result"
    }
   ],
   "source": [
    "#If the p-value is less than 0.05 then it is statistically significant\n",
    "righttail <- 1 - pnorm(abs(tstat))\n",
    "lefttail <- pnorm(-abs(tstat))\n",
    "pval <- lefttail + righttail\n",
    "pval\n",
    "#Keep in mind that we are using a small sample size so the CLT may be flawed\n"
   ]
  },
  {
   "cell_type": "code",
   "execution_count": 8,
   "metadata": {
    "collapsed": true
   },
   "outputs": [],
   "source": [
    "#If distribution of the population is normal then \n",
    "#we can determine t-statistic without using CLT\n",
    "#small sample sizes can make this problematic in assuming/determining normal\n",
    "#distribution for the population\n",
    "#Assume that given we are working with weights the distribution is normal"
   ]
  },
  {
   "cell_type": "code",
   "execution_count": 11,
   "metadata": {
    "collapsed": false
   },
   "outputs": [
    {
     "data": {
      "image/png": "[encoded data removed]",
      "image/svg+xml": [
       "<?xml version=\"1.0\" encoding=\"UTF-8\"?>\n",
       "<svg xmlns=\"http://www.w3.org/2000/svg\" xmlns:xlink=\"http://www.w3.org/1999/xlink\" width=\"504pt\" height=\"504pt\" viewBox=\"0 0 504 504\" version=\"1.1\">\n",
       "<defs>\n",
       "<g>\n",
       "<symbol overflow=\"visible\" id=\"glyph0-0\">\n",
       "<path style=\"stroke:none;\" d=\"M 0.382813 -2.578125 L 0.382813 -3.640625 L 3.621094 -3.640625 L 3.621094 -2.578125 Z M 0.382813 -2.578125 \"/>\n",
       "</symbol>\n",
       "<symbol overflow=\"visible\" id=\"glyph0-1\">\n",
       "<path style=\"stroke:none;\" d=\"M 4.46875 0 L 3.414063 0 L 3.414063 -6.71875 C 3.160156 -6.476563 2.828125 -6.234375 2.414063 -5.996094 C 2 -5.75 1.628906 -5.570313 1.304688 -5.449219 L 1.304688 -6.46875 C 1.894531 -6.742188 2.410156 -7.078125 2.851563 -7.476563 C 3.292969 -7.871094 3.605469 -8.253906 3.789063 -8.625 L 4.46875 -8.625 Z M 4.46875 0 \"/>\n",
       "</symbol>\n",
       "<symbol overflow=\"visible\" id=\"glyph0-2\">\n",
       "<path style=\"stroke:none;\" d=\"M 1.089844 0 L 1.089844 -1.203125 L 2.289063 -1.203125 L 2.289063 0 Z M 1.089844 0 \"/>\n",
       "</symbol>\n",
       "<symbol overflow=\"visible\" id=\"glyph0-3\">\n",
       "<path style=\"stroke:none;\" d=\"M 0.5 -2.25 L 1.605469 -2.34375 C 1.683594 -1.804688 1.871094 -1.398438 2.175781 -1.125 C 2.472656 -0.851563 2.835938 -0.714844 3.257813 -0.71875 C 3.765625 -0.714844 4.195313 -0.90625 4.546875 -1.292969 C 4.898438 -1.671875 5.074219 -2.179688 5.074219 -2.820313 C 5.074219 -3.414063 4.902344 -3.890625 4.566406 -4.242188 C 4.226563 -4.589844 3.785156 -4.761719 3.242188 -4.765625 C 2.898438 -4.761719 2.59375 -4.683594 2.320313 -4.53125 C 2.046875 -4.375 1.832031 -4.175781 1.675781 -3.929688 L 0.6875 -4.0625 L 1.515625 -8.472656 L 5.789063 -8.472656 L 5.789063 -7.464844 L 2.359375 -7.464844 L 1.898438 -5.15625 C 2.414063 -5.515625 2.953125 -5.695313 3.523438 -5.695313 C 4.269531 -5.695313 4.902344 -5.433594 5.421875 -4.914063 C 5.933594 -4.394531 6.191406 -3.726563 6.195313 -2.914063 C 6.191406 -2.132813 5.964844 -1.460938 5.515625 -0.898438 C 4.960938 -0.199219 4.210938 0.144531 3.257813 0.148438 C 2.476563 0.144531 1.835938 -0.0703125 1.34375 -0.507813 C 0.84375 -0.941406 0.5625 -1.523438 0.5 -2.25 Z M 0.5 -2.25 \"/>\n",
       "</symbol>\n",
       "<symbol overflow=\"visible\" id=\"glyph0-4\">\n",
       "<path style=\"stroke:none;\" d=\"M 0.5 -4.234375 C 0.496094 -5.246094 0.601563 -6.0625 0.8125 -6.6875 C 1.019531 -7.304688 1.328125 -7.785156 1.742188 -8.121094 C 2.148438 -8.457031 2.667969 -8.625 3.296875 -8.625 C 3.757813 -8.625 4.164063 -8.53125 4.511719 -8.347656 C 4.855469 -8.160156 5.140625 -7.890625 5.371094 -7.542969 C 5.59375 -7.191406 5.773438 -6.765625 5.90625 -6.265625 C 6.035156 -5.761719 6.097656 -5.085938 6.101563 -4.234375 C 6.097656 -3.226563 5.996094 -2.414063 5.789063 -1.796875 C 5.578125 -1.175781 5.265625 -0.695313 4.859375 -0.359375 C 4.445313 -0.0195313 3.925781 0.144531 3.296875 0.148438 C 2.464844 0.144531 1.816406 -0.148438 1.347656 -0.742188 C 0.78125 -1.457031 0.496094 -2.621094 0.5 -4.234375 Z M 1.582031 -4.234375 C 1.582031 -2.824219 1.746094 -1.886719 2.074219 -1.417969 C 2.402344 -0.949219 2.808594 -0.714844 3.296875 -0.71875 C 3.777344 -0.714844 4.183594 -0.949219 4.519531 -1.421875 C 4.847656 -1.886719 5.015625 -2.824219 5.015625 -4.234375 C 5.015625 -5.648438 4.847656 -6.589844 4.519531 -7.054688 C 4.183594 -7.515625 3.773438 -7.746094 3.289063 -7.75 C 2.800781 -7.746094 2.414063 -7.542969 2.125 -7.136719 C 1.761719 -6.613281 1.582031 -5.644531 1.582031 -4.234375 Z M 1.582031 -4.234375 \"/>\n",
       "</symbol>\n",
       "<symbol overflow=\"visible\" id=\"glyph0-5\">\n",
       "<path style=\"stroke:none;\" d=\"M 3.109375 0 L 3.109375 -7.578125 L 0.28125 -7.578125 L 0.28125 -8.589844 L 7.089844 -8.589844 L 7.089844 -7.578125 L 4.25 -7.578125 L 4.25 0 Z M 3.109375 0 \"/>\n",
       "</symbol>\n",
       "<symbol overflow=\"visible\" id=\"glyph0-6\">\n",
       "<path style=\"stroke:none;\" d=\"M 0.789063 0 L 0.789063 -8.589844 L 1.84375 -8.589844 L 1.84375 -5.507813 C 2.335938 -6.078125 2.957031 -6.363281 3.710938 -6.363281 C 4.164063 -6.363281 4.566406 -6.269531 4.910156 -6.089844 C 5.25 -5.90625 5.492188 -5.65625 5.640625 -5.339844 C 5.785156 -5.015625 5.859375 -4.550781 5.859375 -3.945313 L 5.859375 0 L 4.804688 0 L 4.804688 -3.945313 C 4.804688 -4.46875 4.6875 -4.851563 4.460938 -5.09375 C 4.226563 -5.328125 3.90625 -5.449219 3.492188 -5.453125 C 3.179688 -5.449219 2.882813 -5.367188 2.609375 -5.210938 C 2.328125 -5.046875 2.132813 -4.828125 2.019531 -4.550781 C 1.898438 -4.273438 1.839844 -3.890625 1.84375 -3.40625 L 1.84375 0 Z M 0.789063 0 \"/>\n",
       "</symbol>\n",
       "<symbol overflow=\"visible\" id=\"glyph0-7\">\n",
       "<path style=\"stroke:none;\" d=\"M 5.050781 -2.003906 L 6.140625 -1.867188 C 5.96875 -1.230469 5.648438 -0.738281 5.183594 -0.386719 C 4.71875 -0.0351563 4.125 0.140625 3.40625 0.140625 C 2.492188 0.140625 1.769531 -0.136719 1.238281 -0.699219 C 0.699219 -1.253906 0.433594 -2.042969 0.4375 -3.058594 C 0.433594 -4.105469 0.703125 -4.917969 1.246094 -5.496094 C 1.78125 -6.074219 2.480469 -6.363281 3.34375 -6.363281 C 4.175781 -6.363281 4.855469 -6.078125 5.382813 -5.511719 C 5.910156 -4.945313 6.175781 -4.148438 6.175781 -3.125 C 6.175781 -3.058594 6.171875 -2.964844 6.171875 -2.84375 L 1.53125 -2.84375 C 1.5625 -2.15625 1.757813 -1.632813 2.109375 -1.269531 C 2.457031 -0.90625 2.890625 -0.726563 3.410156 -0.726563 C 3.796875 -0.726563 4.125 -0.828125 4.402344 -1.03125 C 4.671875 -1.234375 4.890625 -1.558594 5.050781 -2.003906 Z M 1.585938 -3.710938 L 5.0625 -3.710938 C 5.015625 -4.226563 4.882813 -4.621094 4.664063 -4.886719 C 4.328125 -5.292969 3.890625 -5.496094 3.359375 -5.496094 C 2.871094 -5.496094 2.464844 -5.332031 2.136719 -5.007813 C 1.804688 -4.683594 1.621094 -4.25 1.585938 -3.710938 Z M 1.585938 -3.710938 \"/>\n",
       "</symbol>\n",
       "<symbol overflow=\"visible\" id=\"glyph0-8\">\n",
       "<path style=\"stroke:none;\" d=\"M 0.398438 -3.109375 C 0.398438 -4.261719 0.71875 -5.117188 1.359375 -5.671875 C 1.894531 -6.132813 2.546875 -6.363281 3.316406 -6.363281 C 4.171875 -6.363281 4.871094 -6.082031 5.414063 -5.519531 C 5.953125 -4.957031 6.222656 -4.183594 6.226563 -3.199219 C 6.222656 -2.398438 6.101563 -1.765625 5.867188 -1.308594 C 5.625 -0.847656 5.277344 -0.492188 4.820313 -0.238281 C 4.359375 0.015625 3.859375 0.140625 3.316406 0.140625 C 2.441406 0.140625 1.734375 -0.136719 1.203125 -0.695313 C 0.664063 -1.253906 0.398438 -2.058594 0.398438 -3.109375 Z M 1.484375 -3.109375 C 1.480469 -2.308594 1.65625 -1.710938 2.003906 -1.320313 C 2.347656 -0.921875 2.785156 -0.726563 3.316406 -0.726563 C 3.839844 -0.726563 4.273438 -0.925781 4.621094 -1.324219 C 4.96875 -1.722656 5.144531 -2.328125 5.144531 -3.148438 C 5.144531 -3.914063 4.96875 -4.496094 4.617188 -4.894531 C 4.265625 -5.289063 3.832031 -5.488281 3.316406 -5.492188 C 2.785156 -5.488281 2.347656 -5.292969 2.003906 -4.898438 C 1.65625 -4.5 1.480469 -3.902344 1.484375 -3.109375 Z M 1.484375 -3.109375 \"/>\n",
       "</symbol>\n",
       "<symbol overflow=\"visible\" id=\"glyph0-9\">\n",
       "<path style=\"stroke:none;\" d=\"M 0.78125 0 L 0.78125 -6.222656 L 1.726563 -6.222656 L 1.726563 -5.28125 C 1.96875 -5.71875 2.191406 -6.011719 2.398438 -6.152344 C 2.601563 -6.292969 2.828125 -6.363281 3.078125 -6.363281 C 3.429688 -6.363281 3.792969 -6.25 4.160156 -6.023438 L 3.796875 -5.046875 C 3.539063 -5.195313 3.28125 -5.273438 3.023438 -5.273438 C 2.792969 -5.273438 2.585938 -5.203125 2.402344 -5.066406 C 2.214844 -4.925781 2.082031 -4.734375 2.007813 -4.488281 C 1.890625 -4.113281 1.832031 -3.703125 1.835938 -3.257813 L 1.835938 0 Z M 0.78125 0 \"/>\n",
       "</symbol>\n",
       "<symbol overflow=\"visible\" id=\"glyph0-10\">\n",
       "<path style=\"stroke:none;\" d=\"M 3.09375 -0.945313 L 3.246094 -0.0117188 C 2.949219 0.0507813 2.683594 0.0820313 2.449219 0.0820313 C 2.066406 0.0820313 1.769531 0.0234375 1.558594 -0.0976563 C 1.347656 -0.21875 1.199219 -0.378906 1.113281 -0.578125 C 1.027344 -0.773438 0.984375 -1.1875 0.984375 -1.820313 L 0.984375 -5.402344 L 0.210938 -5.402344 L 0.210938 -6.222656 L 0.984375 -6.222656 L 0.984375 -7.765625 L 2.03125 -8.398438 L 2.03125 -6.222656 L 3.09375 -6.222656 L 3.09375 -5.402344 L 2.03125 -5.402344 L 2.03125 -1.765625 C 2.027344 -1.460938 2.046875 -1.269531 2.085938 -1.183594 C 2.125 -1.097656 2.183594 -1.027344 2.269531 -0.976563 C 2.351563 -0.925781 2.472656 -0.902344 2.632813 -0.902344 C 2.742188 -0.902344 2.898438 -0.914063 3.09375 -0.945313 Z M 3.09375 -0.945313 \"/>\n",
       "</symbol>\n",
       "<symbol overflow=\"visible\" id=\"glyph0-11\">\n",
       "<path style=\"stroke:none;\" d=\"M 0.796875 -7.375 L 0.796875 -8.589844 L 1.851563 -8.589844 L 1.851563 -7.375 Z M 0.796875 0 L 0.796875 -6.222656 L 1.851563 -6.222656 L 1.851563 0 Z M 0.796875 0 \"/>\n",
       "</symbol>\n",
       "<symbol overflow=\"visible\" id=\"glyph0-12\">\n",
       "<path style=\"stroke:none;\" d=\"M 4.851563 -2.28125 L 5.890625 -2.144531 C 5.773438 -1.425781 5.484375 -0.863281 5.019531 -0.464844 C 4.550781 -0.0585938 3.976563 0.140625 3.296875 0.140625 C 2.445313 0.140625 1.761719 -0.136719 1.246094 -0.695313 C 0.726563 -1.25 0.46875 -2.046875 0.46875 -3.085938 C 0.46875 -3.753906 0.578125 -4.34375 0.800781 -4.851563 C 1.023438 -5.355469 1.363281 -5.730469 1.816406 -5.984375 C 2.269531 -6.234375 2.765625 -6.363281 3.304688 -6.363281 C 3.980469 -6.363281 4.53125 -6.191406 4.964844 -5.847656 C 5.390625 -5.503906 5.667969 -5.019531 5.789063 -4.394531 L 4.765625 -4.234375 C 4.664063 -4.652344 4.492188 -4.96875 4.246094 -5.179688 C 3.996094 -5.390625 3.695313 -5.496094 3.34375 -5.496094 C 2.808594 -5.496094 2.378906 -5.304688 2.050781 -4.921875 C 1.71875 -4.539063 1.550781 -3.9375 1.554688 -3.117188 C 1.550781 -2.28125 1.710938 -1.671875 2.035156 -1.292969 C 2.351563 -0.914063 2.769531 -0.726563 3.289063 -0.726563 C 3.695313 -0.726563 4.042969 -0.851563 4.324219 -1.105469 C 4.601563 -1.359375 4.777344 -1.75 4.851563 -2.28125 Z M 4.851563 -2.28125 \"/>\n",
       "</symbol>\n",
       "<symbol overflow=\"visible\" id=\"glyph0-13\">\n",
       "<path style=\"stroke:none;\" d=\"M 4.851563 -0.765625 C 4.460938 -0.433594 4.082031 -0.199219 3.722656 -0.0625 C 3.355469 0.0742188 2.96875 0.140625 2.5625 0.140625 C 1.875 0.140625 1.351563 -0.0234375 0.984375 -0.359375 C 0.617188 -0.6875 0.433594 -1.117188 0.433594 -1.640625 C 0.433594 -1.945313 0.5 -2.222656 0.640625 -2.472656 C 0.777344 -2.722656 0.960938 -2.925781 1.1875 -3.082031 C 1.410156 -3.234375 1.664063 -3.347656 1.945313 -3.429688 C 2.152344 -3.476563 2.464844 -3.53125 2.882813 -3.585938 C 3.734375 -3.6875 4.359375 -3.808594 4.765625 -3.949219 C 4.765625 -4.089844 4.769531 -4.179688 4.769531 -4.226563 C 4.769531 -4.648438 4.667969 -4.953125 4.46875 -5.132813 C 4.199219 -5.371094 3.800781 -5.488281 3.269531 -5.492188 C 2.769531 -5.488281 2.402344 -5.402344 2.167969 -5.230469 C 1.933594 -5.054688 1.757813 -4.746094 1.648438 -4.304688 L 0.617188 -4.445313 C 0.707031 -4.886719 0.863281 -5.242188 1.078125 -5.515625 C 1.289063 -5.78125 1.597656 -5.992188 2.007813 -6.140625 C 2.410156 -6.289063 2.882813 -6.363281 3.421875 -6.363281 C 3.953125 -6.363281 4.382813 -6.300781 4.714844 -6.175781 C 5.046875 -6.050781 5.292969 -5.890625 5.449219 -5.703125 C 5.605469 -5.511719 5.714844 -5.273438 5.777344 -4.984375 C 5.808594 -4.804688 5.824219 -4.480469 5.828125 -4.015625 L 5.828125 -2.609375 C 5.824219 -1.625 5.847656 -1.003906 5.894531 -0.746094 C 5.941406 -0.484375 6.03125 -0.238281 6.164063 0 L 5.0625 0 C 4.953125 -0.21875 4.882813 -0.472656 4.851563 -0.765625 Z M 4.765625 -3.125 C 4.375 -2.964844 3.800781 -2.832031 3.039063 -2.726563 C 2.605469 -2.660156 2.300781 -2.589844 2.121094 -2.515625 C 1.941406 -2.433594 1.800781 -2.320313 1.703125 -2.171875 C 1.605469 -2.019531 1.558594 -1.851563 1.558594 -1.671875 C 1.558594 -1.386719 1.664063 -1.152344 1.875 -0.96875 C 2.085938 -0.777344 2.398438 -0.683594 2.8125 -0.6875 C 3.21875 -0.683594 3.578125 -0.773438 3.894531 -0.953125 C 4.210938 -1.128906 4.445313 -1.371094 4.59375 -1.679688 C 4.707031 -1.917969 4.761719 -2.269531 4.765625 -2.734375 Z M 4.765625 -3.125 \"/>\n",
       "</symbol>\n",
       "<symbol overflow=\"visible\" id=\"glyph0-14\">\n",
       "<path style=\"stroke:none;\" d=\"M 0.765625 0 L 0.765625 -8.589844 L 1.820313 -8.589844 L 1.820313 0 Z M 0.765625 0 \"/>\n",
       "</symbol>\n",
       "<symbol overflow=\"visible\" id=\"glyph0-15\">\n",
       "<path style=\"stroke:none;\" d=\"\"/>\n",
       "</symbol>\n",
       "<symbol overflow=\"visible\" id=\"glyph0-16\">\n",
       "<path style=\"stroke:none;\" d=\"M 7.4375 -0.921875 C 7.960938 -0.554688 8.449219 -0.289063 8.894531 -0.125 L 8.5625 0.667969 C 7.9375 0.445313 7.324219 0.09375 6.714844 -0.386719 C 6.074219 -0.03125 5.371094 0.144531 4.605469 0.148438 C 3.824219 0.144531 3.117188 -0.0390625 2.488281 -0.414063 C 1.851563 -0.785156 1.363281 -1.3125 1.027344 -1.996094 C 0.683594 -2.671875 0.515625 -3.4375 0.515625 -4.296875 C 0.515625 -5.140625 0.6875 -5.914063 1.03125 -6.609375 C 1.375 -7.304688 1.863281 -7.832031 2.5 -8.195313 C 3.132813 -8.558594 3.84375 -8.742188 4.628906 -8.742188 C 5.421875 -8.742188 6.136719 -8.550781 6.773438 -8.175781 C 7.40625 -7.792969 7.890625 -7.265625 8.226563 -6.59375 C 8.5625 -5.914063 8.730469 -5.152344 8.730469 -4.300781 C 8.730469 -3.59375 8.621094 -2.957031 8.40625 -2.394531 C 8.191406 -1.828125 7.867188 -1.335938 7.4375 -0.921875 Z M 4.933594 -2.375 C 5.589844 -2.1875 6.128906 -1.914063 6.554688 -1.554688 C 7.222656 -2.160156 7.558594 -3.078125 7.558594 -4.300781 C 7.558594 -4.996094 7.4375 -5.601563 7.203125 -6.121094 C 6.964844 -6.640625 6.621094 -7.042969 6.167969 -7.332031 C 5.710938 -7.617188 5.199219 -7.761719 4.632813 -7.765625 C 3.785156 -7.761719 3.082031 -7.472656 2.523438 -6.894531 C 1.964844 -6.3125 1.6875 -5.445313 1.6875 -4.296875 C 1.6875 -3.171875 1.960938 -2.316406 2.515625 -1.722656 C 3.0625 -1.125 3.769531 -0.824219 4.632813 -0.828125 C 5.035156 -0.824219 5.417969 -0.902344 5.78125 -1.054688 C 5.425781 -1.28125 5.050781 -1.445313 4.65625 -1.546875 Z M 4.933594 -2.375 \"/>\n",
       "</symbol>\n",
       "<symbol overflow=\"visible\" id=\"glyph0-17\">\n",
       "<path style=\"stroke:none;\" d=\"M 4.867188 0 L 4.867188 -0.914063 C 4.378906 -0.210938 3.722656 0.140625 2.894531 0.140625 C 2.527344 0.140625 2.183594 0.0703125 1.867188 -0.0703125 C 1.546875 -0.210938 1.308594 -0.386719 1.15625 -0.601563 C 1 -0.8125 0.894531 -1.074219 0.832031 -1.382813 C 0.785156 -1.589844 0.761719 -1.917969 0.765625 -2.367188 L 0.765625 -6.222656 L 1.820313 -6.222656 L 1.820313 -2.773438 C 1.816406 -2.21875 1.839844 -1.847656 1.886719 -1.65625 C 1.949219 -1.378906 2.089844 -1.160156 2.308594 -1.003906 C 2.523438 -0.839844 2.789063 -0.761719 3.105469 -0.765625 C 3.417969 -0.761719 3.714844 -0.84375 3.996094 -1.007813 C 4.273438 -1.171875 4.46875 -1.390625 4.585938 -1.671875 C 4.699219 -1.949219 4.757813 -2.355469 4.757813 -2.890625 L 4.757813 -6.222656 L 5.8125 -6.222656 L 5.8125 0 Z M 4.867188 0 \"/>\n",
       "</symbol>\n",
       "<symbol overflow=\"visible\" id=\"glyph0-18\">\n",
       "<path style=\"stroke:none;\" d=\"M 0.789063 0 L 0.789063 -6.222656 L 1.742188 -6.222656 L 1.742188 -5.335938 C 2.195313 -6.019531 2.855469 -6.363281 3.71875 -6.363281 C 4.089844 -6.363281 4.433594 -6.292969 4.753906 -6.160156 C 5.066406 -6.023438 5.304688 -5.847656 5.460938 -5.632813 C 5.617188 -5.410156 5.726563 -5.152344 5.789063 -4.851563 C 5.828125 -4.65625 5.847656 -4.3125 5.847656 -3.828125 L 5.847656 0 L 4.792969 0 L 4.792969 -3.785156 C 4.792969 -4.214844 4.75 -4.535156 4.667969 -4.75 C 4.585938 -4.960938 4.441406 -5.128906 4.234375 -5.257813 C 4.023438 -5.382813 3.777344 -5.449219 3.5 -5.449219 C 3.046875 -5.449219 2.660156 -5.304688 2.332031 -5.019531 C 2.003906 -4.734375 1.839844 -4.195313 1.84375 -3.398438 L 1.84375 0 Z M 0.789063 0 \"/>\n",
       "</symbol>\n",
       "<symbol overflow=\"visible\" id=\"glyph0-19\">\n",
       "<path style=\"stroke:none;\" d=\"M 0.367188 -1.859375 L 1.414063 -2.023438 C 1.46875 -1.601563 1.632813 -1.28125 1.902344 -1.058594 C 2.167969 -0.835938 2.542969 -0.726563 3.023438 -0.726563 C 3.507813 -0.726563 3.867188 -0.824219 4.101563 -1.023438 C 4.335938 -1.21875 4.453125 -1.449219 4.453125 -1.71875 C 4.453125 -1.953125 4.347656 -2.140625 4.140625 -2.28125 C 3.996094 -2.371094 3.636719 -2.492188 3.0625 -2.636719 C 2.289063 -2.832031 1.753906 -3 1.457031 -3.144531 C 1.15625 -3.285156 0.929688 -3.480469 0.777344 -3.734375 C 0.621094 -3.984375 0.542969 -4.265625 0.546875 -4.570313 C 0.542969 -4.84375 0.605469 -5.097656 0.734375 -5.339844 C 0.859375 -5.574219 1.035156 -5.773438 1.253906 -5.929688 C 1.417969 -6.046875 1.640625 -6.148438 1.925781 -6.234375 C 2.207031 -6.320313 2.511719 -6.363281 2.835938 -6.363281 C 3.324219 -6.363281 3.75 -6.292969 4.121094 -6.152344 C 4.488281 -6.011719 4.761719 -5.820313 4.9375 -5.578125 C 5.113281 -5.335938 5.234375 -5.015625 5.304688 -4.617188 L 4.273438 -4.476563 C 4.222656 -4.796875 4.085938 -5.046875 3.863281 -5.226563 C 3.636719 -5.40625 3.320313 -5.496094 2.914063 -5.496094 C 2.425781 -5.496094 2.082031 -5.414063 1.875 -5.253906 C 1.664063 -5.09375 1.558594 -4.90625 1.5625 -4.695313 C 1.558594 -4.554688 1.601563 -4.433594 1.695313 -4.324219 C 1.773438 -4.210938 1.910156 -4.117188 2.097656 -4.042969 C 2.203125 -4.003906 2.511719 -3.914063 3.03125 -3.773438 C 3.773438 -3.574219 4.292969 -3.410156 4.589844 -3.285156 C 4.878906 -3.15625 5.113281 -2.972656 5.285156 -2.730469 C 5.453125 -2.488281 5.535156 -2.1875 5.539063 -1.828125 C 5.535156 -1.476563 5.433594 -1.144531 5.230469 -0.832031 C 5.023438 -0.519531 4.726563 -0.277344 4.339844 -0.113281 C 3.953125 0.0585938 3.515625 0.140625 3.03125 0.140625 C 2.21875 0.140625 1.601563 -0.0273438 1.179688 -0.363281 C 0.753906 -0.699219 0.484375 -1.195313 0.367188 -1.859375 Z M 0.367188 -1.859375 \"/>\n",
       "</symbol>\n",
       "<symbol overflow=\"visible\" id=\"glyph1-0\">\n",
       "<path style=\"stroke:none;\" d=\"M -1.011719 -6.039063 L 0 -6.039063 L 0 -0.363281 C -0.253906 -0.355469 -0.496094 -0.394531 -0.734375 -0.488281 C -1.117188 -0.628906 -1.5 -0.859375 -1.875 -1.179688 C -2.25 -1.496094 -2.683594 -1.957031 -3.175781 -2.5625 C -3.941406 -3.492188 -4.546875 -4.125 -4.992188 -4.453125 C -5.4375 -4.78125 -5.859375 -4.945313 -6.265625 -4.945313 C -6.679688 -4.945313 -7.03125 -4.792969 -7.320313 -4.496094 C -7.601563 -4.195313 -7.746094 -3.808594 -7.75 -3.328125 C -7.746094 -2.820313 -7.59375 -2.414063 -7.292969 -2.109375 C -6.984375 -1.804688 -6.5625 -1.648438 -6.03125 -1.648438 L -6.140625 -0.5625 C -6.945313 -0.636719 -7.558594 -0.914063 -7.988281 -1.402344 C -8.410156 -1.882813 -8.625 -2.535156 -8.625 -3.351563 C -8.625 -4.175781 -8.394531 -4.828125 -7.9375 -5.308594 C -7.480469 -5.789063 -6.914063 -6.027344 -6.242188 -6.03125 C -5.894531 -6.027344 -5.558594 -5.957031 -5.226563 -5.820313 C -4.890625 -5.675781 -4.539063 -5.441406 -4.175781 -5.117188 C -3.804688 -4.789063 -3.300781 -4.25 -2.664063 -3.492188 C -2.128906 -2.859375 -1.769531 -2.453125 -1.582031 -2.273438 C -1.394531 -2.09375 -1.203125 -1.945313 -1.011719 -1.828125 Z M -1.011719 -6.039063 \"/>\n",
       "</symbol>\n",
       "<symbol overflow=\"visible\" id=\"glyph1-1\">\n",
       "<path style=\"stroke:none;\" d=\"M 0 -3.878906 L -2.054688 -3.878906 L -2.054688 -0.152344 L -3.023438 -0.152344 L -8.589844 -4.074219 L -8.589844 -4.933594 L -3.023438 -4.933594 L -3.023438 -6.09375 L -2.054688 -6.09375 L -2.054688 -4.933594 L 0 -4.933594 Z M -3.023438 -3.878906 L -6.898438 -3.878906 L -3.023438 -1.191406 Z M -3.023438 -3.878906 \"/>\n",
       "</symbol>\n",
       "<symbol overflow=\"visible\" id=\"glyph1-2\">\n",
       "<path style=\"stroke:none;\" d=\"M -6.484375 -5.96875 L -6.40625 -4.921875 C -6.8125 -4.828125 -7.113281 -4.695313 -7.304688 -4.523438 C -7.605469 -4.238281 -7.757813 -3.886719 -7.757813 -3.46875 C -7.757813 -3.132813 -7.664063 -2.835938 -7.476563 -2.585938 C -7.234375 -2.25 -6.878906 -1.988281 -6.414063 -1.796875 C -5.949219 -1.605469 -5.289063 -1.507813 -4.429688 -1.5 C -4.8125 -1.753906 -5.097656 -2.0625 -5.289063 -2.433594 C -5.472656 -2.796875 -5.566406 -3.183594 -5.570313 -3.585938 C -5.566406 -4.289063 -5.308594 -4.886719 -4.792969 -5.382813 C -4.277344 -5.875 -3.609375 -6.121094 -2.789063 -6.125 C -2.25 -6.121094 -1.746094 -6.003906 -1.285156 -5.773438 C -0.816406 -5.539063 -0.460938 -5.222656 -0.21875 -4.816406 C 0.0273438 -4.410156 0.144531 -3.949219 0.148438 -3.433594 C 0.144531 -2.554688 -0.175781 -1.835938 -0.820313 -1.285156 C -1.46875 -0.726563 -2.535156 -0.449219 -4.019531 -0.453125 C -5.675781 -0.449219 -6.882813 -0.757813 -7.640625 -1.371094 C -8.296875 -1.90625 -8.625 -2.625 -8.625 -3.535156 C -8.625 -4.207031 -8.433594 -4.761719 -8.054688 -5.195313 C -7.675781 -5.625 -7.152344 -5.882813 -6.484375 -5.96875 Z M -2.78125 -1.664063 C -2.417969 -1.664063 -2.070313 -1.738281 -1.738281 -1.894531 C -1.40625 -2.042969 -1.152344 -2.261719 -0.980469 -2.542969 C -0.800781 -2.820313 -0.714844 -3.109375 -0.71875 -3.414063 C -0.714844 -3.859375 -0.894531 -4.242188 -1.257813 -4.566406 C -1.613281 -4.882813 -2.101563 -5.042969 -2.722656 -5.046875 C -3.3125 -5.042969 -3.78125 -4.886719 -4.125 -4.570313 C -4.46875 -4.25 -4.640625 -3.851563 -4.640625 -3.375 C -4.640625 -2.898438 -4.46875 -2.492188 -4.128906 -2.160156 C -3.785156 -1.828125 -3.335938 -1.664063 -2.78125 -1.664063 Z M -2.78125 -1.664063 \"/>\n",
       "</symbol>\n",
       "<symbol overflow=\"visible\" id=\"glyph1-3\">\n",
       "<path style=\"stroke:none;\" d=\"M -4.65625 -2.121094 C -4.816406 -1.683594 -5.046875 -1.359375 -5.34375 -1.148438 C -5.640625 -0.9375 -5.996094 -0.832031 -6.410156 -0.832031 C -7.035156 -0.832031 -7.558594 -1.054688 -7.984375 -1.503906 C -8.410156 -1.953125 -8.625 -2.550781 -8.625 -3.300781 C -8.625 -4.046875 -8.40625 -4.652344 -7.972656 -5.109375 C -7.535156 -5.566406 -7.003906 -5.792969 -6.382813 -5.796875 C -5.976563 -5.792969 -5.628906 -5.6875 -5.339844 -5.480469 C -5.042969 -5.269531 -4.816406 -4.953125 -4.65625 -4.53125 C -4.480469 -5.054688 -4.203125 -5.457031 -3.824219 -5.734375 C -3.4375 -6.007813 -2.980469 -6.144531 -2.453125 -6.148438 C -1.714844 -6.144531 -1.097656 -5.886719 -0.601563 -5.367188 C -0.101563 -4.84375 0.144531 -4.160156 0.148438 -3.316406 C 0.144531 -2.46875 -0.101563 -1.785156 -0.605469 -1.265625 C -1.105469 -0.746094 -1.734375 -0.484375 -2.484375 -0.488281 C -3.039063 -0.484375 -3.503906 -0.625 -3.886719 -0.910156 C -4.261719 -1.191406 -4.519531 -1.597656 -4.65625 -2.121094 Z M -6.445313 -1.910156 C -6.039063 -1.910156 -5.707031 -2.039063 -5.449219 -2.300781 C -5.191406 -2.5625 -5.0625 -2.902344 -5.0625 -3.324219 C -5.0625 -3.726563 -5.1875 -4.058594 -5.445313 -4.320313 C -5.695313 -4.578125 -6.011719 -4.710938 -6.386719 -4.710938 C -6.773438 -4.710938 -7.097656 -4.574219 -7.363281 -4.308594 C -7.625 -4.039063 -7.757813 -3.707031 -7.757813 -3.3125 C -7.757813 -2.90625 -7.628906 -2.574219 -7.371094 -2.308594 C -7.113281 -2.042969 -6.804688 -1.910156 -6.445313 -1.910156 Z M -2.476563 -1.570313 C -2.175781 -1.570313 -1.886719 -1.640625 -1.605469 -1.785156 C -1.324219 -1.925781 -1.105469 -2.136719 -0.949219 -2.421875 C -0.792969 -2.699219 -0.714844 -3.003906 -0.71875 -3.328125 C -0.714844 -3.832031 -0.875 -4.246094 -1.203125 -4.578125 C -1.523438 -4.902344 -1.9375 -5.066406 -2.441406 -5.070313 C -2.945313 -5.066406 -3.367188 -4.898438 -3.703125 -4.5625 C -4.035156 -4.222656 -4.199219 -3.800781 -4.203125 -3.292969 C -4.199219 -2.796875 -4.035156 -2.382813 -3.710938 -2.058594 C -3.378906 -1.730469 -2.96875 -1.570313 -2.476563 -1.570313 Z M -2.476563 -1.570313 \"/>\n",
       "</symbol>\n",
       "<symbol overflow=\"visible\" id=\"glyph1-4\">\n",
       "<path style=\"stroke:none;\" d=\"M -2.265625 -0.503906 L -2.40625 -1.558594 C -1.808594 -1.679688 -1.378906 -1.882813 -1.113281 -2.175781 C -0.847656 -2.464844 -0.714844 -2.820313 -0.71875 -3.242188 C -0.714844 -3.734375 -0.886719 -4.152344 -1.234375 -4.496094 C -1.574219 -4.832031 -2 -5.003906 -2.511719 -5.007813 C -2.992188 -5.003906 -3.390625 -4.847656 -3.710938 -4.535156 C -4.023438 -4.21875 -4.183594 -3.816406 -4.183594 -3.328125 C -4.183594 -3.128906 -4.144531 -2.878906 -4.066406 -2.585938 L -4.992188 -2.703125 C -4.984375 -2.769531 -4.980469 -2.828125 -4.980469 -2.871094 C -4.980469 -3.320313 -5.097656 -3.722656 -5.332031 -4.085938 C -5.566406 -4.441406 -5.925781 -4.621094 -6.414063 -4.625 C -6.800781 -4.621094 -7.121094 -4.492188 -7.375 -4.230469 C -7.628906 -3.96875 -7.757813 -3.628906 -7.757813 -3.21875 C -7.757813 -2.804688 -7.628906 -2.464844 -7.371094 -2.191406 C -7.113281 -1.917969 -6.726563 -1.742188 -6.210938 -1.664063 L -6.398438 -0.609375 C -7.105469 -0.738281 -7.652344 -1.03125 -8.042969 -1.488281 C -8.429688 -1.945313 -8.625 -2.511719 -8.625 -3.195313 C -8.625 -3.660156 -8.523438 -4.09375 -8.324219 -4.488281 C -8.121094 -4.882813 -7.847656 -5.183594 -7.5 -5.394531 C -7.148438 -5.601563 -6.777344 -5.707031 -6.390625 -5.707031 C -6.019531 -5.707031 -5.683594 -5.605469 -5.378906 -5.40625 C -5.074219 -5.207031 -4.832031 -4.914063 -4.652344 -4.523438 C -4.535156 -5.03125 -4.289063 -5.425781 -3.921875 -5.707031 C -3.546875 -5.988281 -3.085938 -6.128906 -2.535156 -6.128906 C -1.78125 -6.128906 -1.144531 -5.855469 -0.628906 -5.308594 C -0.105469 -4.761719 0.152344 -4.070313 0.152344 -3.234375 C 0.152344 -2.476563 -0.0703125 -1.847656 -0.519531 -1.355469 C -0.96875 -0.855469 -1.550781 -0.574219 -2.265625 -0.503906 Z M -2.265625 -0.503906 \"/>\n",
       "</symbol>\n",
       "<symbol overflow=\"visible\" id=\"glyph1-5\">\n",
       "<path style=\"stroke:none;\" d=\"M -4.234375 -0.5 C -5.246094 -0.496094 -6.0625 -0.601563 -6.6875 -0.8125 C -7.304688 -1.019531 -7.785156 -1.328125 -8.121094 -1.742188 C -8.457031 -2.152344 -8.625 -2.671875 -8.625 -3.300781 C -8.625 -3.757813 -8.53125 -4.164063 -8.347656 -4.511719 C -8.160156 -4.859375 -7.890625 -5.144531 -7.542969 -5.371094 C -7.191406 -5.59375 -6.765625 -5.773438 -6.265625 -5.90625 C -5.761719 -6.035156 -5.085938 -6.097656 -4.234375 -6.101563 C -3.222656 -6.097656 -2.410156 -5.996094 -1.792969 -5.789063 C -1.175781 -5.578125 -0.695313 -5.265625 -0.359375 -4.859375 C -0.0195313 -4.445313 0.144531 -3.925781 0.148438 -3.296875 C 0.144531 -2.464844 -0.148438 -1.816406 -0.742188 -1.347656 C -1.457031 -0.78125 -2.621094 -0.496094 -4.234375 -0.5 Z M -4.234375 -1.582031 C -2.824219 -1.582031 -1.886719 -1.746094 -1.417969 -2.074219 C -0.949219 -2.402344 -0.714844 -2.808594 -0.71875 -3.296875 C -0.714844 -3.777344 -0.949219 -4.183594 -1.421875 -4.519531 C -1.886719 -4.847656 -2.824219 -5.015625 -4.234375 -5.015625 C -5.648438 -5.015625 -6.589844 -4.847656 -7.054688 -4.519531 C -7.515625 -4.1875 -7.746094 -3.777344 -7.75 -3.289063 C -7.746094 -2.800781 -7.542969 -2.414063 -7.136719 -2.128906 C -6.613281 -1.761719 -5.644531 -1.582031 -4.234375 -1.582031 Z M -4.234375 -1.582031 \"/>\n",
       "</symbol>\n",
       "<symbol overflow=\"visible\" id=\"glyph1-6\">\n",
       "<path style=\"stroke:none;\" d=\"M -2.757813 -0.539063 L -2.851563 -1.613281 C -2.421875 -1.660156 -2.070313 -1.777344 -1.796875 -1.964844 C -1.519531 -2.144531 -1.296875 -2.433594 -1.125 -2.828125 C -0.953125 -3.214844 -0.867188 -3.65625 -0.871094 -4.148438 C -0.867188 -4.578125 -0.929688 -4.960938 -1.0625 -5.296875 C -1.1875 -5.628906 -1.367188 -5.875 -1.59375 -6.039063 C -1.820313 -6.199219 -2.066406 -6.28125 -2.332031 -6.28125 C -2.597656 -6.28125 -2.832031 -6.203125 -3.035156 -6.046875 C -3.238281 -5.890625 -3.40625 -5.632813 -3.542969 -5.273438 C -3.632813 -5.042969 -3.773438 -4.53125 -3.964844 -3.746094 C -4.152344 -2.953125 -4.332031 -2.402344 -4.5 -2.085938 C -4.710938 -1.675781 -4.976563 -1.367188 -5.296875 -1.167969 C -5.617188 -0.964844 -5.972656 -0.867188 -6.367188 -0.867188 C -6.800781 -0.867188 -7.207031 -0.988281 -7.582031 -1.234375 C -7.957031 -1.480469 -8.242188 -1.839844 -8.441406 -2.3125 C -8.632813 -2.785156 -8.730469 -3.3125 -8.734375 -3.890625 C -8.730469 -4.527344 -8.628906 -5.085938 -8.425781 -5.574219 C -8.222656 -6.058594 -7.921875 -6.433594 -7.523438 -6.695313 C -7.125 -6.957031 -6.671875 -7.097656 -6.171875 -7.117188 L -6.085938 -6.03125 C -6.628906 -5.96875 -7.039063 -5.769531 -7.316406 -5.433594 C -7.59375 -5.09375 -7.734375 -4.597656 -7.734375 -3.9375 C -7.734375 -3.25 -7.605469 -2.746094 -7.355469 -2.433594 C -7.097656 -2.117188 -6.796875 -1.960938 -6.445313 -1.964844 C -6.136719 -1.960938 -5.882813 -2.074219 -5.683594 -2.296875 C -5.480469 -2.515625 -5.273438 -3.085938 -5.070313 -4.011719 C -4.859375 -4.933594 -4.679688 -5.566406 -4.523438 -5.914063 C -4.292969 -6.410156 -4 -6.78125 -3.648438 -7.019531 C -3.292969 -7.253906 -2.886719 -7.371094 -2.425781 -7.375 C -1.964844 -7.371094 -1.53125 -7.242188 -1.132813 -6.984375 C -0.726563 -6.722656 -0.414063 -6.34375 -0.1875 -5.855469 C 0.0351563 -5.363281 0.144531 -4.8125 0.148438 -4.203125 C 0.144531 -3.421875 0.0351563 -2.769531 -0.191406 -2.246094 C -0.414063 -1.71875 -0.753906 -1.308594 -1.214844 -1.011719 C -1.667969 -0.710938 -2.183594 -0.554688 -2.757813 -0.539063 Z M -2.757813 -0.539063 \"/>\n",
       "</symbol>\n",
       "<symbol overflow=\"visible\" id=\"glyph1-7\">\n",
       "<path style=\"stroke:none;\" d=\"M -0.765625 -4.851563 C -0.433594 -4.460938 -0.199219 -4.082031 -0.0625 -3.722656 C 0.0742188 -3.355469 0.140625 -2.96875 0.140625 -2.5625 C 0.140625 -1.875 -0.0234375 -1.351563 -0.359375 -0.984375 C -0.6875 -0.617188 -1.117188 -0.433594 -1.640625 -0.433594 C -1.945313 -0.433594 -2.222656 -0.5 -2.472656 -0.640625 C -2.722656 -0.777344 -2.925781 -0.960938 -3.082031 -1.1875 C -3.234375 -1.410156 -3.347656 -1.664063 -3.429688 -1.945313 C -3.476563 -2.152344 -3.53125 -2.464844 -3.585938 -2.882813 C -3.6875 -3.734375 -3.808594 -4.359375 -3.949219 -4.765625 C -4.089844 -4.765625 -4.179688 -4.769531 -4.226563 -4.769531 C -4.648438 -4.769531 -4.953125 -4.667969 -5.132813 -4.46875 C -5.371094 -4.199219 -5.488281 -3.800781 -5.492188 -3.269531 C -5.488281 -2.773438 -5.402344 -2.40625 -5.230469 -2.171875 C -5.054688 -1.933594 -4.746094 -1.757813 -4.304688 -1.648438 L -4.445313 -0.617188 C -4.886719 -0.707031 -5.242188 -0.863281 -5.515625 -1.078125 C -5.78125 -1.292969 -5.992188 -1.601563 -6.140625 -2.011719 C -6.289063 -2.414063 -6.363281 -2.886719 -6.363281 -3.421875 C -6.363281 -3.953125 -6.300781 -4.382813 -6.175781 -4.714844 C -6.050781 -5.046875 -5.890625 -5.292969 -5.703125 -5.449219 C -5.511719 -5.605469 -5.273438 -5.714844 -4.984375 -5.777344 C -4.804688 -5.808594 -4.480469 -5.824219 -4.015625 -5.828125 L -2.605469 -5.828125 C -1.625 -5.824219 -1.003906 -5.847656 -0.746094 -5.894531 C -0.480469 -5.941406 -0.234375 -6.03125 0 -6.164063 L 0 -5.0625 C -0.21875 -4.953125 -0.472656 -4.882813 -0.765625 -4.851563 Z M -3.121094 -4.765625 C -2.960938 -4.375 -2.828125 -3.800781 -2.726563 -3.039063 C -2.660156 -2.605469 -2.589844 -2.300781 -2.515625 -2.121094 C -2.433594 -1.941406 -2.320313 -1.800781 -2.171875 -1.703125 C -2.019531 -1.605469 -1.851563 -1.558594 -1.671875 -1.558594 C -1.386719 -1.558594 -1.152344 -1.664063 -0.964844 -1.875 C -0.773438 -2.085938 -0.679688 -2.398438 -0.683594 -2.8125 C -0.679688 -3.21875 -0.769531 -3.578125 -0.949219 -3.894531 C -1.128906 -4.210938 -1.371094 -4.445313 -1.679688 -4.59375 C -1.917969 -4.707031 -2.269531 -4.761719 -2.734375 -4.765625 Z M -3.121094 -4.765625 \"/>\n",
       "</symbol>\n",
       "<symbol overflow=\"visible\" id=\"glyph1-8\">\n",
       "<path style=\"stroke:none;\" d=\"M 0 -0.789063 L -6.222656 -0.792969 L -6.222656 -1.734375 L -5.351563 -1.734375 C -5.648438 -1.929688 -5.894531 -2.1875 -6.082031 -2.511719 C -6.269531 -2.835938 -6.363281 -3.207031 -6.363281 -3.621094 C -6.363281 -4.082031 -6.265625 -4.457031 -6.074219 -4.753906 C -5.882813 -5.042969 -5.617188 -5.253906 -5.273438 -5.378906 C -6 -5.871094 -6.363281 -6.511719 -6.363281 -7.300781 C -6.363281 -7.917969 -6.191406 -8.390625 -5.847656 -8.722656 C -5.503906 -9.054688 -4.976563 -9.222656 -4.269531 -9.222656 L 0 -9.222656 L 0 -8.171875 L -3.917969 -8.171875 C -4.335938 -8.167969 -4.640625 -8.132813 -4.828125 -8.070313 C -5.015625 -8 -5.164063 -7.878906 -5.277344 -7.699219 C -5.390625 -7.519531 -5.449219 -7.308594 -5.449219 -7.066406 C -5.449219 -6.628906 -5.300781 -6.265625 -5.011719 -5.976563 C -4.71875 -5.6875 -4.253906 -5.542969 -3.613281 -5.542969 L 0 -5.542969 L 0 -4.488281 L -4.042969 -4.488281 C -4.511719 -4.488281 -4.863281 -4.402344 -5.097656 -4.230469 C -5.332031 -4.058594 -5.449219 -3.777344 -5.449219 -3.386719 C -5.449219 -3.089844 -5.371094 -2.8125 -5.214844 -2.5625 C -5.058594 -2.308594 -4.828125 -2.128906 -4.527344 -2.015625 C -4.226563 -1.902344 -3.792969 -1.84375 -3.226563 -1.847656 L 0 -1.84375 Z M 0 -0.789063 \"/>\n",
       "</symbol>\n",
       "<symbol overflow=\"visible\" id=\"glyph1-9\">\n",
       "<path style=\"stroke:none;\" d=\"M 2.382813 -0.789063 L -6.222656 -0.792969 L -6.222656 -1.753906 L -5.414063 -1.753906 C -5.730469 -1.976563 -5.964844 -2.234375 -6.125 -2.519531 C -6.28125 -2.804688 -6.363281 -3.148438 -6.363281 -3.558594 C -6.363281 -4.082031 -6.226563 -4.550781 -5.953125 -4.960938 C -5.679688 -5.363281 -5.292969 -5.671875 -4.792969 -5.882813 C -4.292969 -6.089844 -3.746094 -6.191406 -3.15625 -6.195313 C -2.519531 -6.191406 -1.945313 -6.078125 -1.4375 -5.851563 C -0.921875 -5.621094 -0.53125 -5.289063 -0.265625 -4.855469 C 0.0078125 -4.417969 0.140625 -3.960938 0.140625 -3.480469 C 0.140625 -3.128906 0.0664063 -2.8125 -0.0820313 -2.535156 C -0.230469 -2.253906 -0.417969 -2.023438 -0.644531 -1.84375 L 2.382813 -1.84375 Z M -3.078125 -1.746094 C -2.273438 -1.746094 -1.683594 -1.90625 -1.300781 -2.230469 C -0.917969 -2.554688 -0.726563 -2.949219 -0.726563 -3.410156 C -0.726563 -3.878906 -0.921875 -4.277344 -1.320313 -4.613281 C -1.710938 -4.945313 -2.328125 -5.113281 -3.164063 -5.117188 C -3.953125 -5.113281 -4.546875 -4.949219 -4.945313 -4.625 C -5.339844 -4.296875 -5.535156 -3.910156 -5.539063 -3.457031 C -5.535156 -3.007813 -5.324219 -2.609375 -4.90625 -2.265625 C -4.484375 -1.917969 -3.875 -1.746094 -3.078125 -1.746094 Z M -3.078125 -1.746094 \"/>\n",
       "</symbol>\n",
       "<symbol overflow=\"visible\" id=\"glyph1-10\">\n",
       "<path style=\"stroke:none;\" d=\"M 0 -0.765625 L -8.589844 -0.769531 L -8.589844 -1.824219 L 0 -1.820313 Z M 0 -0.765625 \"/>\n",
       "</symbol>\n",
       "<symbol overflow=\"visible\" id=\"glyph1-11\">\n",
       "<path style=\"stroke:none;\" d=\"M -2.003906 -5.050781 L -1.867188 -6.140625 C -1.230469 -5.96875 -0.738281 -5.648438 -0.386719 -5.183594 C -0.0351563 -4.71875 0.140625 -4.125 0.140625 -3.40625 C 0.140625 -2.492188 -0.136719 -1.769531 -0.699219 -1.238281 C -1.253906 -0.703125 -2.042969 -0.4375 -3.058594 -0.441406 C -4.105469 -0.4375 -4.917969 -0.707031 -5.496094 -1.25 C -6.074219 -1.785156 -6.363281 -2.484375 -6.363281 -3.347656 C -6.363281 -4.175781 -6.078125 -4.855469 -5.511719 -5.382813 C -4.945313 -5.910156 -4.148438 -6.175781 -3.121094 -6.175781 C -3.054688 -6.175781 -2.960938 -6.171875 -2.839844 -6.171875 L -2.84375 -1.53125 C -2.15625 -1.566406 -1.632813 -1.761719 -1.269531 -2.109375 C -0.90625 -2.457031 -0.726563 -2.890625 -0.726563 -3.410156 C -0.726563 -3.796875 -0.828125 -4.125 -1.03125 -4.402344 C -1.234375 -4.671875 -1.558594 -4.890625 -2.003906 -5.050781 Z M -3.710938 -1.589844 L -3.707031 -5.0625 C -4.226563 -5.015625 -4.621094 -4.882813 -4.886719 -4.664063 C -5.292969 -4.328125 -5.496094 -3.890625 -5.496094 -3.359375 C -5.496094 -2.871094 -5.332031 -2.464844 -5.007813 -2.136719 C -4.683594 -1.804688 -4.25 -1.621094 -3.710938 -1.589844 Z M -3.710938 -1.589844 \"/>\n",
       "</symbol>\n",
       "<symbol overflow=\"visible\" id=\"glyph1-12\">\n",
       "<path style=\"stroke:none;\" d=\"\"/>\n",
       "</symbol>\n",
       "<symbol overflow=\"visible\" id=\"glyph1-13\">\n",
       "<path style=\"stroke:none;\" d=\"M -0.917969 -7.4375 C -0.554688 -7.960938 -0.289063 -8.449219 -0.121094 -8.894531 L 0.667969 -8.5625 C 0.445313 -7.9375 0.09375 -7.324219 -0.386719 -6.714844 C -0.03125 -6.074219 0.144531 -5.371094 0.148438 -4.605469 C 0.144531 -3.824219 -0.0390625 -3.117188 -0.414063 -2.488281 C -0.785156 -1.851563 -1.3125 -1.363281 -1.996094 -1.027344 C -2.671875 -0.683594 -3.4375 -0.515625 -4.296875 -0.515625 C -5.140625 -0.515625 -5.914063 -0.6875 -6.609375 -1.03125 C -7.304688 -1.375 -7.832031 -1.863281 -8.195313 -2.5 C -8.558594 -3.132813 -8.742188 -3.84375 -8.742188 -4.628906 C -8.742188 -5.421875 -8.550781 -6.136719 -8.175781 -6.773438 C -7.792969 -7.410156 -7.265625 -7.894531 -6.59375 -8.230469 C -5.914063 -8.5625 -5.152344 -8.730469 -4.300781 -8.730469 C -3.589844 -8.730469 -2.953125 -8.621094 -2.390625 -8.40625 C -1.828125 -8.191406 -1.335938 -7.867188 -0.917969 -7.4375 Z M -2.371094 -4.933594 C -2.1875 -5.589844 -1.914063 -6.128906 -1.550781 -6.554688 C -2.15625 -7.222656 -3.074219 -7.558594 -4.300781 -7.558594 C -4.996094 -7.558594 -5.601563 -7.4375 -6.121094 -7.203125 C -6.640625 -6.964844 -7.042969 -6.621094 -7.332031 -6.167969 C -7.617188 -5.710938 -7.761719 -5.199219 -7.765625 -4.636719 C -7.761719 -3.785156 -7.472656 -3.082031 -6.894531 -2.523438 C -6.3125 -1.964844 -5.445313 -1.6875 -4.296875 -1.6875 C -3.171875 -1.6875 -2.3125 -1.960938 -1.71875 -2.515625 C -1.117188 -3.0625 -0.820313 -3.769531 -0.824219 -4.632813 C -0.820313 -5.035156 -0.898438 -5.417969 -1.054688 -5.78125 C -1.28125 -5.425781 -1.445313 -5.050781 -1.546875 -4.65625 Z M -2.371094 -4.933594 \"/>\n",
       "</symbol>\n",
       "<symbol overflow=\"visible\" id=\"glyph1-14\">\n",
       "<path style=\"stroke:none;\" d=\"M 0 -4.867188 L -0.914063 -4.867188 C -0.210938 -4.378906 0.140625 -3.722656 0.140625 -2.894531 C 0.140625 -2.527344 0.0703125 -2.183594 -0.0703125 -1.867188 C -0.210938 -1.546875 -0.386719 -1.308594 -0.597656 -1.15625 C -0.808594 -1 -1.070313 -0.894531 -1.382813 -0.832031 C -1.589844 -0.789063 -1.917969 -0.765625 -2.367188 -0.769531 L -6.222656 -0.769531 L -6.222656 -1.824219 L -2.773438 -1.824219 C -2.21875 -1.820313 -1.847656 -1.84375 -1.65625 -1.886719 C -1.378906 -1.949219 -1.160156 -2.089844 -1.003906 -2.308594 C -0.839844 -2.523438 -0.761719 -2.789063 -0.765625 -3.105469 C -0.761719 -3.417969 -0.84375 -3.714844 -1.007813 -3.996094 C -1.171875 -4.273438 -1.390625 -4.46875 -1.671875 -4.585938 C -1.945313 -4.699219 -2.351563 -4.757813 -2.886719 -4.757813 L -6.222656 -4.757813 L -6.222656 -5.8125 L 0 -5.8125 Z M 0 -4.867188 \"/>\n",
       "</symbol>\n",
       "<symbol overflow=\"visible\" id=\"glyph1-15\">\n",
       "<path style=\"stroke:none;\" d=\"M 0 -0.789063 L -6.222656 -0.792969 L -6.222656 -1.742188 L -5.335938 -1.742188 C -6.019531 -2.195313 -6.363281 -2.855469 -6.363281 -3.722656 C -6.363281 -4.089844 -6.292969 -4.433594 -6.160156 -4.753906 C -6.023438 -5.066406 -5.847656 -5.304688 -5.632813 -5.460938 C -5.410156 -5.617188 -5.152344 -5.726563 -4.851563 -5.789063 C -4.65625 -5.828125 -4.3125 -5.847656 -3.824219 -5.847656 L 0 -5.847656 L 0 -4.792969 L -3.785156 -4.792969 C -4.214844 -4.792969 -4.535156 -4.75 -4.75 -4.667969 C -4.960938 -4.585938 -5.128906 -4.441406 -5.257813 -4.234375 C -5.382813 -4.023438 -5.449219 -3.777344 -5.449219 -3.5 C -5.449219 -3.046875 -5.304688 -2.660156 -5.019531 -2.335938 C -4.734375 -2.007813 -4.195313 -1.84375 -3.398438 -1.847656 L 0 -1.84375 Z M 0 -0.789063 \"/>\n",
       "</symbol>\n",
       "<symbol overflow=\"visible\" id=\"glyph1-16\">\n",
       "<path style=\"stroke:none;\" d=\"M -0.941406 -3.09375 L -0.0117188 -3.246094 C 0.0507813 -2.949219 0.0820313 -2.683594 0.0820313 -2.449219 C 0.0820313 -2.066406 0.0234375 -1.769531 -0.0976563 -1.558594 C -0.21875 -1.347656 -0.378906 -1.199219 -0.574219 -1.113281 C -0.769531 -1.027344 -1.183594 -0.984375 -1.820313 -0.984375 L -5.402344 -0.984375 L -5.402344 -0.210938 L -6.222656 -0.210938 L -6.222656 -0.984375 L -7.765625 -0.984375 L -8.398438 -2.035156 L -6.222656 -2.035156 L -6.222656 -3.09375 L -5.402344 -3.09375 L -5.402344 -2.035156 L -1.761719 -2.03125 C -1.460938 -2.027344 -1.269531 -2.046875 -1.183594 -2.085938 C -1.097656 -2.125 -1.027344 -2.183594 -0.976563 -2.269531 C -0.925781 -2.351563 -0.902344 -2.472656 -0.902344 -2.632813 C -0.902344 -2.742188 -0.914063 -2.898438 -0.941406 -3.09375 Z M -0.941406 -3.09375 \"/>\n",
       "</symbol>\n",
       "<symbol overflow=\"visible\" id=\"glyph1-17\">\n",
       "<path style=\"stroke:none;\" d=\"M -7.375 -0.796875 L -8.589844 -0.796875 L -8.589844 -1.851563 L -7.375 -1.851563 Z M 0 -0.796875 L -6.222656 -0.796875 L -6.222656 -1.851563 L 0 -1.851563 Z M 0 -0.796875 \"/>\n",
       "</symbol>\n",
       "<symbol overflow=\"visible\" id=\"glyph1-18\">\n",
       "<path style=\"stroke:none;\" d=\"M -1.859375 -0.371094 L -2.023438 -1.414063 C -1.601563 -1.46875 -1.28125 -1.632813 -1.058594 -1.902344 C -0.835938 -2.167969 -0.726563 -2.542969 -0.726563 -3.023438 C -0.726563 -3.507813 -0.824219 -3.867188 -1.019531 -4.101563 C -1.214844 -4.335938 -1.445313 -4.453125 -1.714844 -4.453125 C -1.953125 -4.453125 -2.140625 -4.347656 -2.277344 -4.140625 C -2.367188 -3.996094 -2.488281 -3.636719 -2.636719 -3.0625 C -2.832031 -2.289063 -3 -1.753906 -3.144531 -1.457031 C -3.285156 -1.15625 -3.480469 -0.929688 -3.734375 -0.777344 C -3.984375 -0.621094 -4.265625 -0.542969 -4.570313 -0.546875 C -4.84375 -0.542969 -5.097656 -0.605469 -5.339844 -0.734375 C -5.574219 -0.859375 -5.773438 -1.035156 -5.929688 -1.253906 C -6.046875 -1.417969 -6.148438 -1.640625 -6.234375 -1.925781 C -6.320313 -2.207031 -6.363281 -2.511719 -6.363281 -2.835938 C -6.363281 -3.324219 -6.292969 -3.75 -6.152344 -4.121094 C -6.011719 -4.488281 -5.820313 -4.761719 -5.578125 -4.9375 C -5.335938 -5.113281 -5.015625 -5.234375 -4.617188 -5.304688 L -4.476563 -4.273438 C -4.796875 -4.222656 -5.046875 -4.085938 -5.226563 -3.863281 C -5.40625 -3.636719 -5.496094 -3.320313 -5.496094 -2.914063 C -5.496094 -2.425781 -5.414063 -2.082031 -5.253906 -1.875 C -5.09375 -1.667969 -4.90625 -1.5625 -4.695313 -1.566406 C -4.554688 -1.5625 -4.433594 -1.605469 -4.324219 -1.695313 C -4.210938 -1.777344 -4.117188 -1.914063 -4.042969 -2.097656 C -4.003906 -2.203125 -3.914063 -2.511719 -3.773438 -3.03125 C -3.570313 -3.773438 -3.40625 -4.292969 -3.28125 -4.589844 C -3.15625 -4.878906 -2.972656 -5.113281 -2.730469 -5.285156 C -2.488281 -5.453125 -2.1875 -5.535156 -1.828125 -5.539063 C -1.476563 -5.535156 -1.144531 -5.433594 -0.832031 -5.230469 C -0.519531 -5.023438 -0.277344 -4.726563 -0.113281 -4.339844 C 0.0585938 -3.953125 0.140625 -3.515625 0.140625 -3.03125 C 0.140625 -2.21875 -0.0273438 -1.601563 -0.363281 -1.179688 C -0.699219 -0.753906 -1.195313 -0.484375 -1.859375 -0.371094 Z M -1.859375 -0.371094 \"/>\n",
       "</symbol>\n",
       "<symbol overflow=\"visible\" id=\"glyph2-0\">\n",
       "<path style=\"stroke:none;\" d=\"M 1.070313 0 L 1.070313 -10.308594 L 3.09375 -10.308594 L 7.3125 -3.425781 L 7.3125 -10.308594 L 9.246094 -10.308594 L 9.246094 0 L 7.15625 0 L 3.003906 -6.722656 L 3.003906 0 Z M 1.070313 0 \"/>\n",
       "</symbol>\n",
       "<symbol overflow=\"visible\" id=\"glyph2-1\">\n",
       "<path style=\"stroke:none;\" d=\"M 0.578125 -3.839844 C 0.574219 -4.492188 0.734375 -5.128906 1.0625 -5.742188 C 1.382813 -6.355469 1.839844 -6.824219 2.433594 -7.148438 C 3.023438 -7.472656 3.6875 -7.632813 4.421875 -7.636719 C 5.550781 -7.632813 6.476563 -7.265625 7.199219 -6.535156 C 7.917969 -5.796875 8.277344 -4.871094 8.28125 -3.753906 C 8.277344 -2.621094 7.914063 -1.683594 7.1875 -0.945313 C 6.457031 -0.203125 5.539063 0.164063 4.4375 0.167969 C 3.75 0.164063 3.097656 0.0117188 2.476563 -0.292969 C 1.855469 -0.601563 1.382813 -1.054688 1.0625 -1.652344 C 0.734375 -2.25 0.574219 -2.976563 0.578125 -3.839844 Z M 2.601563 -3.734375 C 2.601563 -2.988281 2.777344 -2.421875 3.128906 -2.03125 C 3.480469 -1.636719 3.914063 -1.441406 4.429688 -1.441406 C 4.945313 -1.441406 5.375 -1.636719 5.726563 -2.03125 C 6.070313 -2.421875 6.246094 -2.992188 6.25 -3.746094 C 6.246094 -4.472656 6.070313 -5.035156 5.726563 -5.433594 C 5.375 -5.824219 4.945313 -6.023438 4.429688 -6.027344 C 3.914063 -6.023438 3.480469 -5.824219 3.128906 -5.433594 C 2.777344 -5.035156 2.601563 -4.46875 2.601563 -3.734375 Z M 2.601563 -3.734375 \"/>\n",
       "</symbol>\n",
       "<symbol overflow=\"visible\" id=\"glyph2-2\">\n",
       "<path style=\"stroke:none;\" d=\"M 2.925781 0 L 0.949219 0 L 0.949219 -7.46875 L 2.785156 -7.46875 L 2.785156 -6.40625 C 3.09375 -6.902344 3.375 -7.234375 3.628906 -7.394531 C 3.878906 -7.554688 4.164063 -7.632813 4.484375 -7.636719 C 4.929688 -7.632813 5.363281 -7.507813 5.785156 -7.261719 L 5.175781 -5.539063 C 4.839844 -5.75 4.53125 -5.859375 4.246094 -5.863281 C 3.96875 -5.859375 3.734375 -5.78125 3.542969 -5.632813 C 3.347656 -5.476563 3.195313 -5.203125 3.089844 -4.808594 C 2.976563 -4.40625 2.921875 -3.570313 2.925781 -2.304688 Z M 2.925781 0 \"/>\n",
       "</symbol>\n",
       "<symbol overflow=\"visible\" id=\"glyph2-3\">\n",
       "<path style=\"stroke:none;\" d=\"M 0.886719 -7.46875 L 2.707031 -7.46875 L 2.707031 -6.449219 C 3.355469 -7.238281 4.128906 -7.632813 5.035156 -7.636719 C 5.507813 -7.632813 5.921875 -7.535156 6.277344 -7.339844 C 6.625 -7.140625 6.914063 -6.84375 7.144531 -6.449219 C 7.46875 -6.84375 7.824219 -7.140625 8.203125 -7.339844 C 8.582031 -7.535156 8.988281 -7.632813 9.421875 -7.636719 C 9.96875 -7.632813 10.429688 -7.523438 10.8125 -7.300781 C 11.1875 -7.078125 11.472656 -6.75 11.664063 -6.320313 C 11.796875 -6 11.863281 -5.484375 11.867188 -4.773438 L 11.867188 0 L 9.894531 0 L 9.894531 -4.269531 C 9.890625 -5.007813 9.820313 -5.484375 9.6875 -5.703125 C 9.5 -5.980469 9.21875 -6.121094 8.84375 -6.125 C 8.5625 -6.121094 8.304688 -6.039063 8.0625 -5.871094 C 7.820313 -5.699219 7.644531 -5.449219 7.535156 -5.128906 C 7.425781 -4.800781 7.371094 -4.289063 7.375 -3.585938 L 7.375 0 L 5.398438 0 L 5.398438 -4.09375 C 5.394531 -4.816406 5.359375 -5.285156 5.292969 -5.5 C 5.21875 -5.707031 5.109375 -5.863281 4.964844 -5.96875 C 4.816406 -6.070313 4.617188 -6.121094 4.367188 -6.125 C 4.058594 -6.121094 3.785156 -6.039063 3.542969 -5.878906 C 3.296875 -5.710938 3.121094 -5.476563 3.019531 -5.167969 C 2.910156 -4.855469 2.859375 -4.339844 2.863281 -3.628906 L 2.863281 0 L 0.886719 0 Z M 0.886719 -7.46875 \"/>\n",
       "</symbol>\n",
       "<symbol overflow=\"visible\" id=\"glyph2-4\">\n",
       "<path style=\"stroke:none;\" d=\"M 2.511719 -5.1875 L 0.71875 -5.511719 C 0.917969 -6.230469 1.265625 -6.765625 1.757813 -7.113281 C 2.25 -7.460938 2.980469 -7.632813 3.953125 -7.636719 C 4.832031 -7.632813 5.488281 -7.53125 5.917969 -7.324219 C 6.347656 -7.113281 6.648438 -6.847656 6.828125 -6.527344 C 7 -6.207031 7.089844 -5.617188 7.09375 -4.761719 L 7.074219 -2.453125 C 7.070313 -1.792969 7.101563 -1.308594 7.167969 -1 C 7.226563 -0.6875 7.347656 -0.355469 7.523438 0 L 5.570313 0 C 5.515625 -0.128906 5.453125 -0.320313 5.378906 -0.582031 C 5.34375 -0.695313 5.320313 -0.773438 5.308594 -0.816406 C 4.96875 -0.484375 4.605469 -0.238281 4.222656 -0.078125 C 3.835938 0.0859375 3.425781 0.164063 2.996094 0.167969 C 2.222656 0.164063 1.617188 -0.0429688 1.175781 -0.457031 C 0.730469 -0.871094 0.507813 -1.398438 0.511719 -2.039063 C 0.507813 -2.460938 0.609375 -2.835938 0.8125 -3.167969 C 1.011719 -3.496094 1.292969 -3.75 1.660156 -3.925781 C 2.019531 -4.101563 2.546875 -4.253906 3.234375 -4.386719 C 4.15625 -4.558594 4.792969 -4.71875 5.152344 -4.871094 L 5.152344 -5.070313 C 5.148438 -5.445313 5.054688 -5.71875 4.871094 -5.882813 C 4.679688 -6.042969 4.328125 -6.121094 3.8125 -6.125 C 3.457031 -6.121094 3.183594 -6.054688 2.988281 -5.917969 C 2.789063 -5.777344 2.628906 -5.53125 2.511719 -5.1875 Z M 5.152344 -3.585938 C 4.894531 -3.5 4.496094 -3.398438 3.949219 -3.285156 C 3.402344 -3.164063 3.042969 -3.046875 2.875 -2.9375 C 2.613281 -2.75 2.484375 -2.519531 2.488281 -2.242188 C 2.484375 -1.964844 2.585938 -1.726563 2.796875 -1.523438 C 3 -1.320313 3.265625 -1.21875 3.585938 -1.222656 C 3.941406 -1.21875 4.28125 -1.335938 4.605469 -1.574219 C 4.84375 -1.75 5 -1.96875 5.078125 -2.230469 C 5.125 -2.394531 5.148438 -2.714844 5.152344 -3.191406 Z M 5.152344 -3.585938 \"/>\n",
       "</symbol>\n",
       "<symbol overflow=\"visible\" id=\"glyph2-5\">\n",
       "<path style=\"stroke:none;\" d=\"M 1.035156 0 L 1.035156 -10.308594 L 3.007813 -10.308594 L 3.007813 0 Z M 1.035156 0 \"/>\n",
       "</symbol>\n",
       "<symbol overflow=\"visible\" id=\"glyph2-6\">\n",
       "<path style=\"stroke:none;\" d=\"\"/>\n",
       "</symbol>\n",
       "<symbol overflow=\"visible\" id=\"glyph2-7\">\n",
       "<path style=\"stroke:none;\" d=\"M 9.34375 -1.308594 C 9.851563 -0.9375 10.40625 -0.648438 11.011719 -0.4375 L 10.246094 1.035156 C 9.929688 0.9375 9.621094 0.808594 9.324219 0.648438 C 9.253906 0.613281 8.792969 0.3125 7.9375 -0.265625 C 7.261719 0.03125 6.515625 0.175781 5.695313 0.175781 C 4.109375 0.175781 2.867188 -0.289063 1.972656 -1.222656 C 1.070313 -2.152344 0.621094 -3.460938 0.625 -5.152344 C 0.621094 -6.832031 1.070313 -8.144531 1.972656 -9.082031 C 2.871094 -10.015625 4.09375 -10.480469 5.640625 -10.484375 C 7.164063 -10.480469 8.375 -10.015625 9.273438 -9.082031 C 10.167969 -8.144531 10.617188 -6.832031 10.617188 -5.152344 C 10.617188 -4.257813 10.492188 -3.476563 10.246094 -2.804688 C 10.054688 -2.285156 9.753906 -1.785156 9.34375 -1.308594 Z M 7.671875 -2.480469 C 7.933594 -2.792969 8.132813 -3.175781 8.269531 -3.621094 C 8.402344 -4.066406 8.472656 -4.574219 8.472656 -5.152344 C 8.472656 -6.339844 8.207031 -7.230469 7.683594 -7.820313 C 7.15625 -8.40625 6.472656 -8.699219 5.625 -8.703125 C 4.773438 -8.699219 4.082031 -8.40625 3.558594 -7.816406 C 3.027344 -7.226563 2.765625 -6.335938 2.769531 -5.152344 C 2.765625 -3.945313 3.027344 -3.046875 3.558594 -2.449219 C 4.082031 -1.851563 4.75 -1.550781 5.5625 -1.554688 C 5.859375 -1.550781 6.144531 -1.601563 6.414063 -1.703125 C 5.988281 -1.976563 5.558594 -2.191406 5.125 -2.347656 L 5.710938 -3.535156 C 6.390625 -3.296875 7.042969 -2.945313 7.671875 -2.480469 Z M 7.671875 -2.480469 \"/>\n",
       "</symbol>\n",
       "<symbol overflow=\"visible\" id=\"glyph2-8\">\n",
       "<path style=\"stroke:none;\" d=\"M 0.808594 -2.75 L 0.808594 -4.726563 L 4.691406 -4.726563 L 4.691406 -2.75 Z M 0.808594 -2.75 \"/>\n",
       "</symbol>\n",
       "<symbol overflow=\"visible\" id=\"glyph2-9\">\n",
       "<path style=\"stroke:none;\" d=\"M 1.046875 0 L 1.046875 -10.308594 L 4.386719 -10.308594 C 5.648438 -10.304688 6.472656 -10.253906 6.863281 -10.152344 C 7.449219 -9.996094 7.945313 -9.660156 8.347656 -9.144531 C 8.742188 -8.625 8.941406 -7.957031 8.945313 -7.136719 C 8.941406 -6.503906 8.824219 -5.96875 8.597656 -5.539063 C 8.363281 -5.105469 8.074219 -4.769531 7.722656 -4.523438 C 7.367188 -4.277344 7.007813 -4.113281 6.644531 -4.035156 C 6.144531 -3.933594 5.421875 -3.882813 4.484375 -3.886719 L 3.128906 -3.886719 L 3.128906 0 Z M 3.128906 -8.5625 L 3.128906 -5.640625 L 4.269531 -5.640625 C 5.085938 -5.636719 5.632813 -5.691406 5.914063 -5.800781 C 6.1875 -5.90625 6.40625 -6.074219 6.5625 -6.304688 C 6.71875 -6.535156 6.796875 -6.800781 6.800781 -7.109375 C 6.796875 -7.480469 6.6875 -7.789063 6.46875 -8.035156 C 6.246094 -8.277344 5.964844 -8.429688 5.632813 -8.492188 C 5.378906 -8.535156 4.878906 -8.558594 4.132813 -8.5625 Z M 3.128906 -8.5625 \"/>\n",
       "</symbol>\n",
       "<symbol overflow=\"visible\" id=\"glyph2-10\">\n",
       "<path style=\"stroke:none;\" d=\"M 4.457031 -7.46875 L 4.457031 -5.890625 L 3.109375 -5.890625 L 3.109375 -2.882813 C 3.105469 -2.273438 3.117188 -1.917969 3.144531 -1.816406 C 3.167969 -1.714844 3.226563 -1.628906 3.320313 -1.566406 C 3.410156 -1.496094 3.523438 -1.464844 3.65625 -1.46875 C 3.835938 -1.464844 4.097656 -1.527344 4.449219 -1.660156 L 4.621094 -0.125 C 4.15625 0.0703125 3.636719 0.164063 3.058594 0.167969 C 2.699219 0.164063 2.375 0.105469 2.09375 -0.0117188 C 1.804688 -0.128906 1.597656 -0.28125 1.464844 -0.472656 C 1.332031 -0.660156 1.238281 -0.917969 1.1875 -1.246094 C 1.144531 -1.472656 1.125 -1.9375 1.125 -2.636719 L 1.125 -5.890625 L 0.21875 -5.890625 L 0.21875 -7.46875 L 1.125 -7.46875 L 1.125 -8.949219 L 3.109375 -10.105469 L 3.109375 -7.46875 Z M 4.457031 -7.46875 \"/>\n",
       "</symbol>\n",
       "</g>\n",
       "<clipPath id=\"clip1\">\n",
       "  <path d=\"M 36 23.039063 L 237.160156 23.039063 L 237.160156 469 L 36 469 Z M 36 23.039063 \"/>\n",
       "</clipPath>\n",
       "<clipPath id=\"clip2\">\n",
       "  <path d=\"M 0 0 L 253 0 L 253 505 L 0 505 Z M 0 0 \"/>\n",
       "</clipPath>\n",
       "<clipPath id=\"clip3\">\n",
       "  <path d=\"M 36 23.039063 L 237.160156 23.039063 L 237.160156 469 L 36 469 Z M 36 23.039063 \"/>\n",
       "</clipPath>\n",
       "<clipPath id=\"clip4\">\n",
       "  <path d=\"M 288 23.039063 L 489.160156 23.039063 L 489.160156 469 L 288 469 Z M 288 23.039063 \"/>\n",
       "</clipPath>\n",
       "<clipPath id=\"clip5\">\n",
       "  <path d=\"M 252 0 L 505 0 L 505 505 L 252 505 Z M 252 0 \"/>\n",
       "</clipPath>\n",
       "<clipPath id=\"clip6\">\n",
       "  <path d=\"M 288 23.039063 L 489.160156 23.039063 L 489.160156 469 L 288 469 Z M 288 23.039063 \"/>\n",
       "</clipPath>\n",
       "</defs>\n",
       "<g id=\"surface1\">\n",
       "<rect x=\"0\" y=\"0\" width=\"504\" height=\"504\" style=\"fill:rgb(100%,100%,100%);fill-opacity:1;stroke:none;\"/>\n",
       "<g clip-path=\"url(#clip1)\" clip-rule=\"nonzero\">\n",
       "<path style=\"fill:none;stroke-width:0.75;stroke-linecap:round;stroke-linejoin:round;stroke:rgb(0%,0%,0%);stroke-opacity:1;stroke-miterlimit:10;\" d=\"M 133.179688 297.136719 C 133.179688 300.734375 127.78125 300.734375 127.78125 297.136719 C 127.78125 293.535156 133.179688 293.535156 133.179688 297.136719 \"/>\n",
       "<path style=\"fill:none;stroke-width:0.75;stroke-linecap:round;stroke-linejoin:round;stroke:rgb(0%,0%,0%);stroke-opacity:1;stroke-miterlimit:10;\" d=\"M 144.378906 276.675781 C 144.378906 280.277344 138.980469 280.277344 138.980469 276.675781 C 138.980469 273.074219 144.378906 273.074219 144.378906 276.675781 \"/>\n",
       "<path style=\"fill:none;stroke-width:0.75;stroke-linecap:round;stroke-linejoin:round;stroke:rgb(0%,0%,0%);stroke-opacity:1;stroke-miterlimit:10;\" d=\"M 95.316406 387.347656 C 95.316406 390.949219 89.914063 390.949219 89.914063 387.347656 C 89.914063 383.75 95.316406 383.75 95.316406 387.347656 \"/>\n",
       "<path style=\"fill:none;stroke-width:0.75;stroke-linecap:round;stroke-linejoin:round;stroke:rgb(0%,0%,0%);stroke-opacity:1;stroke-miterlimit:10;\" d=\"M 121.730469 308.605469 C 121.730469 312.207031 116.328125 312.207031 116.328125 308.605469 C 116.328125 305.007813 121.730469 305.007813 121.730469 308.605469 \"/>\n",
       "<path style=\"fill:none;stroke-width:0.75;stroke-linecap:round;stroke-linejoin:round;stroke:rgb(0%,0%,0%);stroke-opacity:1;stroke-miterlimit:10;\" d=\"M 109.425781 320.078125 C 109.425781 323.675781 104.027344 323.675781 104.027344 320.078125 C 104.027344 316.476563 109.425781 316.476563 109.425781 320.078125 \"/>\n",
       "<path style=\"fill:none;stroke-width:0.75;stroke-linecap:round;stroke-linejoin:round;stroke:rgb(0%,0%,0%);stroke-opacity:1;stroke-miterlimit:10;\" d=\"M 155.832031 221.804688 C 155.832031 225.40625 150.429688 225.40625 150.429688 221.804688 C 150.429688 218.203125 155.832031 218.203125 155.832031 221.804688 \"/>\n",
       "<path style=\"fill:none;stroke-width:0.75;stroke-linecap:round;stroke-linejoin:round;stroke:rgb(0%,0%,0%);stroke-opacity:1;stroke-miterlimit:10;\" d=\"M 168.132813 177.164063 C 168.132813 180.761719 162.734375 180.761719 162.734375 177.164063 C 162.734375 173.5625 168.132813 173.5625 168.132813 177.164063 \"/>\n",
       "<path style=\"fill:none;stroke-width:0.75;stroke-linecap:round;stroke-linejoin:round;stroke:rgb(0%,0%,0%);stroke-opacity:1;stroke-miterlimit:10;\" d=\"M 182.246094 135.621094 C 182.246094 139.222656 176.84375 139.222656 176.84375 135.621094 C 176.84375 132.023438 182.246094 132.023438 182.246094 135.621094 \"/>\n",
       "<path style=\"fill:none;stroke-width:0.75;stroke-linecap:round;stroke-linejoin:round;stroke:rgb(0%,0%,0%);stroke-opacity:1;stroke-miterlimit:10;\" d=\"M 231.445313 39.519531 C 231.445313 43.121094 226.046875 43.121094 226.046875 39.519531 C 226.046875 35.921875 231.445313 35.921875 231.445313 39.519531 \"/>\n",
       "<path style=\"fill:none;stroke-width:0.75;stroke-linecap:round;stroke-linejoin:round;stroke:rgb(0%,0%,0%);stroke-opacity:1;stroke-miterlimit:10;\" d=\"M 77.222656 415.25 C 77.222656 418.847656 71.820313 418.847656 71.820313 415.25 C 71.820313 411.648438 77.222656 411.648438 77.222656 415.25 \"/>\n",
       "<path style=\"fill:none;stroke-width:0.75;stroke-linecap:round;stroke-linejoin:round;stroke:rgb(0%,0%,0%);stroke-opacity:1;stroke-miterlimit:10;\" d=\"M 200.339844 116.710938 C 200.339844 120.3125 194.9375 120.3125 194.9375 116.710938 C 194.9375 113.113281 200.339844 113.113281 200.339844 116.710938 \"/>\n",
       "<path style=\"fill:none;stroke-width:0.75;stroke-linecap:round;stroke-linejoin:round;stroke:rgb(0%,0%,0%);stroke-opacity:1;stroke-miterlimit:10;\" d=\"M 46.113281 451.519531 C 46.113281 455.121094 40.714844 455.121094 40.714844 451.519531 C 40.714844 447.921875 46.113281 447.921875 46.113281 451.519531 \"/>\n",
       "</g>\n",
       "<path style=\"fill:none;stroke-width:0.75;stroke-linecap:round;stroke-linejoin:round;stroke:rgb(0%,0%,0%);stroke-opacity:1;stroke-miterlimit:10;\" d=\"M 55.808594 468 L 216.347656 468 \"/>\n",
       "<path style=\"fill:none;stroke-width:0.75;stroke-linecap:round;stroke-linejoin:round;stroke:rgb(0%,0%,0%);stroke-opacity:1;stroke-miterlimit:10;\" d=\"M 55.808594 468 L 55.808594 475.199219 \"/>\n",
       "<path style=\"fill:none;stroke-width:0.75;stroke-linecap:round;stroke-linejoin:round;stroke:rgb(0%,0%,0%);stroke-opacity:1;stroke-miterlimit:10;\" d=\"M 82.566406 468 L 82.566406 475.199219 \"/>\n",
       "<path style=\"fill:none;stroke-width:0.75;stroke-linecap:round;stroke-linejoin:round;stroke:rgb(0%,0%,0%);stroke-opacity:1;stroke-miterlimit:10;\" d=\"M 109.324219 468 L 109.324219 475.199219 \"/>\n",
       "<path style=\"fill:none;stroke-width:0.75;stroke-linecap:round;stroke-linejoin:round;stroke:rgb(0%,0%,0%);stroke-opacity:1;stroke-miterlimit:10;\" d=\"M 136.078125 468 L 136.078125 475.199219 \"/>\n",
       "<path style=\"fill:none;stroke-width:0.75;stroke-linecap:round;stroke-linejoin:round;stroke:rgb(0%,0%,0%);stroke-opacity:1;stroke-miterlimit:10;\" d=\"M 162.835938 468 L 162.835938 475.199219 \"/>\n",
       "<path style=\"fill:none;stroke-width:0.75;stroke-linecap:round;stroke-linejoin:round;stroke:rgb(0%,0%,0%);stroke-opacity:1;stroke-miterlimit:10;\" d=\"M 189.59375 468 L 189.59375 475.199219 \"/>\n",
       "<path style=\"fill:none;stroke-width:0.75;stroke-linecap:round;stroke-linejoin:round;stroke:rgb(0%,0%,0%);stroke-opacity:1;stroke-miterlimit:10;\" d=\"M 216.347656 468 L 216.347656 475.199219 \"/>\n",
       "<g style=\"fill:rgb(0%,0%,0%);fill-opacity:1;\">\n",
       "  <use xlink:href=\"#glyph0-0\" x=\"45.46875\" y=\"486.71875\"/>\n",
       "  <use xlink:href=\"#glyph0-1\" x=\"49.464844\" y=\"486.71875\"/>\n",
       "  <use xlink:href=\"#glyph0-2\" x=\"56.138672\" y=\"486.71875\"/>\n",
       "  <use xlink:href=\"#glyph0-3\" x=\"59.472656\" y=\"486.71875\"/>\n",
       "</g>\n",
       "<g style=\"fill:rgb(0%,0%,0%);fill-opacity:1;\">\n",
       "  <use xlink:href=\"#glyph0-0\" x=\"98.984375\" y=\"486.71875\"/>\n",
       "  <use xlink:href=\"#glyph0-4\" x=\"102.980469\" y=\"486.71875\"/>\n",
       "  <use xlink:href=\"#glyph0-2\" x=\"109.654297\" y=\"486.71875\"/>\n",
       "  <use xlink:href=\"#glyph0-3\" x=\"112.988281\" y=\"486.71875\"/>\n",
       "</g>\n",
       "<g style=\"fill:rgb(0%,0%,0%);fill-opacity:1;\">\n",
       "  <use xlink:href=\"#glyph0-4\" x=\"154.496094\" y=\"486.71875\"/>\n",
       "  <use xlink:href=\"#glyph0-2\" x=\"161.169922\" y=\"486.71875\"/>\n",
       "  <use xlink:href=\"#glyph0-3\" x=\"164.503906\" y=\"486.71875\"/>\n",
       "</g>\n",
       "<g style=\"fill:rgb(0%,0%,0%);fill-opacity:1;\">\n",
       "  <use xlink:href=\"#glyph0-1\" x=\"181.253906\" y=\"486.71875\"/>\n",
       "  <use xlink:href=\"#glyph0-2\" x=\"187.927734\" y=\"486.71875\"/>\n",
       "  <use xlink:href=\"#glyph0-4\" x=\"191.261719\" y=\"486.71875\"/>\n",
       "</g>\n",
       "<g style=\"fill:rgb(0%,0%,0%);fill-opacity:1;\">\n",
       "  <use xlink:href=\"#glyph0-1\" x=\"208.007813\" y=\"486.71875\"/>\n",
       "  <use xlink:href=\"#glyph0-2\" x=\"214.681641\" y=\"486.71875\"/>\n",
       "  <use xlink:href=\"#glyph0-3\" x=\"218.015625\" y=\"486.71875\"/>\n",
       "</g>\n",
       "<path style=\"fill:none;stroke-width:0.75;stroke-linecap:round;stroke-linejoin:round;stroke:rgb(0%,0%,0%);stroke-opacity:1;stroke-miterlimit:10;\" d=\"M 36 412.148438 L 36 40.140625 \"/>\n",
       "<path style=\"fill:none;stroke-width:0.75;stroke-linecap:round;stroke-linejoin:round;stroke:rgb(0%,0%,0%);stroke-opacity:1;stroke-miterlimit:10;\" d=\"M 36 412.148438 L 28.800781 412.148438 \"/>\n",
       "<path style=\"fill:none;stroke-width:0.75;stroke-linecap:round;stroke-linejoin:round;stroke:rgb(0%,0%,0%);stroke-opacity:1;stroke-miterlimit:10;\" d=\"M 36 350.148438 L 28.800781 350.148438 \"/>\n",
       "<path style=\"fill:none;stroke-width:0.75;stroke-linecap:round;stroke-linejoin:round;stroke:rgb(0%,0%,0%);stroke-opacity:1;stroke-miterlimit:10;\" d=\"M 36 288.144531 L 28.800781 288.144531 \"/>\n",
       "<path style=\"fill:none;stroke-width:0.75;stroke-linecap:round;stroke-linejoin:round;stroke:rgb(0%,0%,0%);stroke-opacity:1;stroke-miterlimit:10;\" d=\"M 36 226.144531 L 28.800781 226.144531 \"/>\n",
       "<path style=\"fill:none;stroke-width:0.75;stroke-linecap:round;stroke-linejoin:round;stroke:rgb(0%,0%,0%);stroke-opacity:1;stroke-miterlimit:10;\" d=\"M 36 164.144531 L 28.800781 164.144531 \"/>\n",
       "<path style=\"fill:none;stroke-width:0.75;stroke-linecap:round;stroke-linejoin:round;stroke:rgb(0%,0%,0%);stroke-opacity:1;stroke-miterlimit:10;\" d=\"M 36 102.140625 L 28.800781 102.140625 \"/>\n",
       "<path style=\"fill:none;stroke-width:0.75;stroke-linecap:round;stroke-linejoin:round;stroke:rgb(0%,0%,0%);stroke-opacity:1;stroke-miterlimit:10;\" d=\"M 36 40.140625 L 28.800781 40.140625 \"/>\n",
       "<g style=\"fill:rgb(0%,0%,0%);fill-opacity:1;\">\n",
       "  <use xlink:href=\"#glyph1-0\" x=\"25.921875\" y=\"418.820313\"/>\n",
       "  <use xlink:href=\"#glyph1-0\" x=\"25.921875\" y=\"412.146484\"/>\n",
       "</g>\n",
       "<g style=\"fill:rgb(0%,0%,0%);fill-opacity:1;\">\n",
       "  <use xlink:href=\"#glyph1-0\" x=\"25.921875\" y=\"356.820313\"/>\n",
       "  <use xlink:href=\"#glyph1-1\" x=\"25.921875\" y=\"350.146484\"/>\n",
       "</g>\n",
       "<g style=\"fill:rgb(0%,0%,0%);fill-opacity:1;\">\n",
       "  <use xlink:href=\"#glyph1-0\" x=\"25.921875\" y=\"294.816406\"/>\n",
       "  <use xlink:href=\"#glyph1-2\" x=\"25.921875\" y=\"288.142578\"/>\n",
       "</g>\n",
       "<g style=\"fill:rgb(0%,0%,0%);fill-opacity:1;\">\n",
       "  <use xlink:href=\"#glyph1-0\" x=\"25.921875\" y=\"232.816406\"/>\n",
       "  <use xlink:href=\"#glyph1-3\" x=\"25.921875\" y=\"226.142578\"/>\n",
       "</g>\n",
       "<g style=\"fill:rgb(0%,0%,0%);fill-opacity:1;\">\n",
       "  <use xlink:href=\"#glyph1-4\" x=\"25.921875\" y=\"170.816406\"/>\n",
       "  <use xlink:href=\"#glyph1-5\" x=\"25.921875\" y=\"164.142578\"/>\n",
       "</g>\n",
       "<g style=\"fill:rgb(0%,0%,0%);fill-opacity:1;\">\n",
       "  <use xlink:href=\"#glyph1-4\" x=\"25.921875\" y=\"108.8125\"/>\n",
       "  <use xlink:href=\"#glyph1-0\" x=\"25.921875\" y=\"102.138672\"/>\n",
       "</g>\n",
       "<g style=\"fill:rgb(0%,0%,0%);fill-opacity:1;\">\n",
       "  <use xlink:href=\"#glyph1-4\" x=\"25.921875\" y=\"46.8125\"/>\n",
       "  <use xlink:href=\"#glyph1-1\" x=\"25.921875\" y=\"40.138672\"/>\n",
       "</g>\n",
       "<path style=\"fill:none;stroke-width:0.75;stroke-linecap:round;stroke-linejoin:round;stroke:rgb(0%,0%,0%);stroke-opacity:1;stroke-miterlimit:10;\" d=\"M 36 468 L 236.160156 468 L 236.160156 23.039063 L 36 23.039063 L 36 468 \"/>\n",
       "<g clip-path=\"url(#clip2)\" clip-rule=\"nonzero\">\n",
       "<g style=\"fill:rgb(0%,0%,0%);fill-opacity:1;\">\n",
       "  <use xlink:href=\"#glyph2-0\" x=\"80.074219\" y=\"16.675781\"/>\n",
       "  <use xlink:href=\"#glyph2-1\" x=\"90.473438\" y=\"16.675781\"/>\n",
       "  <use xlink:href=\"#glyph2-2\" x=\"99.269531\" y=\"16.675781\"/>\n",
       "  <use xlink:href=\"#glyph2-3\" x=\"104.873437\" y=\"16.675781\"/>\n",
       "  <use xlink:href=\"#glyph2-4\" x=\"117.677344\" y=\"16.675781\"/>\n",
       "  <use xlink:href=\"#glyph2-5\" x=\"125.685937\" y=\"16.675781\"/>\n",
       "  <use xlink:href=\"#glyph2-6\" x=\"129.686719\" y=\"16.675781\"/>\n",
       "  <use xlink:href=\"#glyph2-7\" x=\"133.6875\" y=\"16.675781\"/>\n",
       "  <use xlink:href=\"#glyph2-8\" x=\"144.888281\" y=\"16.675781\"/>\n",
       "  <use xlink:href=\"#glyph2-7\" x=\"149.683594\" y=\"16.675781\"/>\n",
       "  <use xlink:href=\"#glyph2-6\" x=\"160.884375\" y=\"16.675781\"/>\n",
       "  <use xlink:href=\"#glyph2-9\" x=\"164.885156\" y=\"16.675781\"/>\n",
       "  <use xlink:href=\"#glyph2-5\" x=\"174.489844\" y=\"16.675781\"/>\n",
       "  <use xlink:href=\"#glyph2-1\" x=\"178.490625\" y=\"16.675781\"/>\n",
       "  <use xlink:href=\"#glyph2-10\" x=\"187.286719\" y=\"16.675781\"/>\n",
       "</g>\n",
       "<g style=\"fill:rgb(0%,0%,0%);fill-opacity:1;\">\n",
       "  <use xlink:href=\"#glyph0-5\" x=\"79.382813\" y=\"501.121094\"/>\n",
       "  <use xlink:href=\"#glyph0-6\" x=\"86.712891\" y=\"501.121094\"/>\n",
       "  <use xlink:href=\"#glyph0-7\" x=\"93.386719\" y=\"501.121094\"/>\n",
       "  <use xlink:href=\"#glyph0-8\" x=\"100.060547\" y=\"501.121094\"/>\n",
       "  <use xlink:href=\"#glyph0-9\" x=\"106.734375\" y=\"501.121094\"/>\n",
       "  <use xlink:href=\"#glyph0-7\" x=\"110.730469\" y=\"501.121094\"/>\n",
       "  <use xlink:href=\"#glyph0-10\" x=\"117.404297\" y=\"501.121094\"/>\n",
       "  <use xlink:href=\"#glyph0-11\" x=\"120.738281\" y=\"501.121094\"/>\n",
       "  <use xlink:href=\"#glyph0-12\" x=\"123.404297\" y=\"501.121094\"/>\n",
       "  <use xlink:href=\"#glyph0-13\" x=\"129.404297\" y=\"501.121094\"/>\n",
       "  <use xlink:href=\"#glyph0-14\" x=\"136.078125\" y=\"501.121094\"/>\n",
       "  <use xlink:href=\"#glyph0-15\" x=\"138.744141\" y=\"501.121094\"/>\n",
       "  <use xlink:href=\"#glyph0-16\" x=\"142.078125\" y=\"501.121094\"/>\n",
       "  <use xlink:href=\"#glyph0-17\" x=\"151.412109\" y=\"501.121094\"/>\n",
       "  <use xlink:href=\"#glyph0-13\" x=\"158.085938\" y=\"501.121094\"/>\n",
       "  <use xlink:href=\"#glyph0-18\" x=\"164.759766\" y=\"501.121094\"/>\n",
       "  <use xlink:href=\"#glyph0-10\" x=\"171.433594\" y=\"501.121094\"/>\n",
       "  <use xlink:href=\"#glyph0-11\" x=\"174.767578\" y=\"501.121094\"/>\n",
       "  <use xlink:href=\"#glyph0-14\" x=\"177.433594\" y=\"501.121094\"/>\n",
       "  <use xlink:href=\"#glyph0-7\" x=\"180.099609\" y=\"501.121094\"/>\n",
       "  <use xlink:href=\"#glyph0-19\" x=\"186.773438\" y=\"501.121094\"/>\n",
       "</g>\n",
       "<g style=\"fill:rgb(0%,0%,0%);fill-opacity:1;\">\n",
       "  <use xlink:href=\"#glyph1-6\" x=\"11.519531\" y=\"292.878906\"/>\n",
       "  <use xlink:href=\"#glyph1-7\" x=\"11.519531\" y=\"284.875\"/>\n",
       "  <use xlink:href=\"#glyph1-8\" x=\"11.519531\" y=\"278.201172\"/>\n",
       "  <use xlink:href=\"#glyph1-9\" x=\"11.519531\" y=\"268.205078\"/>\n",
       "  <use xlink:href=\"#glyph1-10\" x=\"11.519531\" y=\"261.53125\"/>\n",
       "  <use xlink:href=\"#glyph1-11\" x=\"11.519531\" y=\"258.865234\"/>\n",
       "  <use xlink:href=\"#glyph1-12\" x=\"11.519531\" y=\"252.191406\"/>\n",
       "  <use xlink:href=\"#glyph1-13\" x=\"11.519531\" y=\"248.857422\"/>\n",
       "  <use xlink:href=\"#glyph1-14\" x=\"11.519531\" y=\"239.523438\"/>\n",
       "  <use xlink:href=\"#glyph1-7\" x=\"11.519531\" y=\"232.849609\"/>\n",
       "  <use xlink:href=\"#glyph1-15\" x=\"11.519531\" y=\"226.175781\"/>\n",
       "  <use xlink:href=\"#glyph1-16\" x=\"11.519531\" y=\"219.501953\"/>\n",
       "  <use xlink:href=\"#glyph1-17\" x=\"11.519531\" y=\"216.167969\"/>\n",
       "  <use xlink:href=\"#glyph1-10\" x=\"11.519531\" y=\"213.501953\"/>\n",
       "  <use xlink:href=\"#glyph1-11\" x=\"11.519531\" y=\"210.835938\"/>\n",
       "  <use xlink:href=\"#glyph1-18\" x=\"11.519531\" y=\"204.162109\"/>\n",
       "</g>\n",
       "</g>\n",
       "<g clip-path=\"url(#clip3)\" clip-rule=\"nonzero\">\n",
       "<path style=\"fill:none;stroke-width:0.75;stroke-linecap:round;stroke-linejoin:round;stroke:rgb(85.098039%,37.254902%,0.784314%);stroke-opacity:1;stroke-miterlimit:10;\" d=\"M 36 487.683594 L 236.160156 15.988281 \"/>\n",
       "</g>\n",
       "<g clip-path=\"url(#clip4)\" clip-rule=\"nonzero\">\n",
       "<path style=\"fill:none;stroke-width:0.75;stroke-linecap:round;stroke-linejoin:round;stroke:rgb(0%,0%,0%);stroke-opacity:1;stroke-miterlimit:10;\" d=\"M 361.425781 369.214844 C 361.425781 372.816406 356.027344 372.816406 356.027344 369.214844 C 356.027344 365.617188 361.425781 365.617188 361.425781 369.214844 \"/>\n",
       "<path style=\"fill:none;stroke-width:0.75;stroke-linecap:round;stroke-linejoin:round;stroke:rgb(0%,0%,0%);stroke-opacity:1;stroke-miterlimit:10;\" d=\"M 452.339844 51.960938 C 452.339844 55.5625 446.9375 55.5625 446.9375 51.960938 C 446.9375 48.363281 452.339844 48.363281 452.339844 51.960938 \"/>\n",
       "<path style=\"fill:none;stroke-width:0.75;stroke-linecap:round;stroke-linejoin:round;stroke:rgb(0%,0%,0%);stroke-opacity:1;stroke-miterlimit:10;\" d=\"M 407.832031 248.152344 C 407.832031 251.75 402.429688 251.75 402.429688 248.152344 C 402.429688 244.550781 407.832031 244.550781 407.832031 248.152344 \"/>\n",
       "<path style=\"fill:none;stroke-width:0.75;stroke-linecap:round;stroke-linejoin:round;stroke:rgb(0%,0%,0%);stroke-opacity:1;stroke-miterlimit:10;\" d=\"M 385.179688 276.382813 C 385.179688 279.984375 379.78125 279.984375 379.78125 276.382813 C 379.78125 272.785156 385.179688 272.785156 385.179688 276.382813 \"/>\n",
       "<path style=\"fill:none;stroke-width:0.75;stroke-linecap:round;stroke-linejoin:round;stroke:rgb(0%,0%,0%);stroke-opacity:1;stroke-miterlimit:10;\" d=\"M 396.378906 265.378906 C 396.378906 268.976563 390.980469 268.976563 390.980469 265.378906 C 390.980469 261.777344 396.378906 261.777344 396.378906 265.378906 \"/>\n",
       "<path style=\"fill:none;stroke-width:0.75;stroke-linecap:round;stroke-linejoin:round;stroke:rgb(0%,0%,0%);stroke-opacity:1;stroke-miterlimit:10;\" d=\"M 298.113281 451.519531 C 298.113281 455.121094 292.714844 455.121094 292.714844 451.519531 C 292.714844 447.921875 298.113281 447.921875 298.113281 451.519531 \"/>\n",
       "<path style=\"fill:none;stroke-width:0.75;stroke-linecap:round;stroke-linejoin:round;stroke:rgb(0%,0%,0%);stroke-opacity:1;stroke-miterlimit:10;\" d=\"M 483.445313 39.519531 C 483.445313 43.121094 478.046875 43.121094 478.046875 39.519531 C 478.046875 35.921875 483.445313 35.921875 483.445313 39.519531 \"/>\n",
       "<path style=\"fill:none;stroke-width:0.75;stroke-linecap:round;stroke-linejoin:round;stroke:rgb(0%,0%,0%);stroke-opacity:1;stroke-miterlimit:10;\" d=\"M 347.316406 394.578125 C 347.316406 398.175781 341.914063 398.175781 341.914063 394.578125 C 341.914063 390.976563 347.316406 390.976563 347.316406 394.578125 \"/>\n",
       "<path style=\"fill:none;stroke-width:0.75;stroke-linecap:round;stroke-linejoin:round;stroke:rgb(0%,0%,0%);stroke-opacity:1;stroke-miterlimit:10;\" d=\"M 373.730469 321.363281 C 373.730469 324.964844 368.328125 324.964844 368.328125 321.363281 C 368.328125 317.765625 373.730469 317.765625 373.730469 321.363281 \"/>\n",
       "<path style=\"fill:none;stroke-width:0.75;stroke-linecap:round;stroke-linejoin:round;stroke:rgb(0%,0%,0%);stroke-opacity:1;stroke-miterlimit:10;\" d=\"M 329.222656 436.6875 C 329.222656 440.285156 323.820313 440.285156 323.820313 436.6875 C 323.820313 433.085938 329.222656 433.085938 329.222656 436.6875 \"/>\n",
       "<path style=\"fill:none;stroke-width:0.75;stroke-linecap:round;stroke-linejoin:round;stroke:rgb(0%,0%,0%);stroke-opacity:1;stroke-miterlimit:10;\" d=\"M 434.246094 110.820313 C 434.246094 114.417969 428.84375 114.417969 428.84375 110.820313 C 428.84375 107.21875 434.246094 107.21875 434.246094 110.820313 \"/>\n",
       "<path style=\"fill:none;stroke-width:0.75;stroke-linecap:round;stroke-linejoin:round;stroke:rgb(0%,0%,0%);stroke-opacity:1;stroke-miterlimit:10;\" d=\"M 420.132813 142.398438 C 420.132813 146 414.734375 146 414.734375 142.398438 C 414.734375 138.800781 420.132813 138.800781 420.132813 142.398438 \"/>\n",
       "</g>\n",
       "<path style=\"fill:none;stroke-width:0.75;stroke-linecap:round;stroke-linejoin:round;stroke:rgb(0%,0%,0%);stroke-opacity:1;stroke-miterlimit:10;\" d=\"M 307.808594 468 L 468.347656 468 \"/>\n",
       "<path style=\"fill:none;stroke-width:0.75;stroke-linecap:round;stroke-linejoin:round;stroke:rgb(0%,0%,0%);stroke-opacity:1;stroke-miterlimit:10;\" d=\"M 307.808594 468 L 307.808594 475.199219 \"/>\n",
       "<path style=\"fill:none;stroke-width:0.75;stroke-linecap:round;stroke-linejoin:round;stroke:rgb(0%,0%,0%);stroke-opacity:1;stroke-miterlimit:10;\" d=\"M 334.566406 468 L 334.566406 475.199219 \"/>\n",
       "<path style=\"fill:none;stroke-width:0.75;stroke-linecap:round;stroke-linejoin:round;stroke:rgb(0%,0%,0%);stroke-opacity:1;stroke-miterlimit:10;\" d=\"M 361.324219 468 L 361.324219 475.199219 \"/>\n",
       "<path style=\"fill:none;stroke-width:0.75;stroke-linecap:round;stroke-linejoin:round;stroke:rgb(0%,0%,0%);stroke-opacity:1;stroke-miterlimit:10;\" d=\"M 388.078125 468 L 388.078125 475.199219 \"/>\n",
       "<path style=\"fill:none;stroke-width:0.75;stroke-linecap:round;stroke-linejoin:round;stroke:rgb(0%,0%,0%);stroke-opacity:1;stroke-miterlimit:10;\" d=\"M 414.835938 468 L 414.835938 475.199219 \"/>\n",
       "<path style=\"fill:none;stroke-width:0.75;stroke-linecap:round;stroke-linejoin:round;stroke:rgb(0%,0%,0%);stroke-opacity:1;stroke-miterlimit:10;\" d=\"M 441.59375 468 L 441.59375 475.199219 \"/>\n",
       "<path style=\"fill:none;stroke-width:0.75;stroke-linecap:round;stroke-linejoin:round;stroke:rgb(0%,0%,0%);stroke-opacity:1;stroke-miterlimit:10;\" d=\"M 468.347656 468 L 468.347656 475.199219 \"/>\n",
       "<g style=\"fill:rgb(0%,0%,0%);fill-opacity:1;\">\n",
       "  <use xlink:href=\"#glyph0-0\" x=\"297.46875\" y=\"486.71875\"/>\n",
       "  <use xlink:href=\"#glyph0-1\" x=\"301.464844\" y=\"486.71875\"/>\n",
       "  <use xlink:href=\"#glyph0-2\" x=\"308.138672\" y=\"486.71875\"/>\n",
       "  <use xlink:href=\"#glyph0-3\" x=\"311.472656\" y=\"486.71875\"/>\n",
       "</g>\n",
       "<g style=\"fill:rgb(0%,0%,0%);fill-opacity:1;\">\n",
       "  <use xlink:href=\"#glyph0-0\" x=\"350.984375\" y=\"486.71875\"/>\n",
       "  <use xlink:href=\"#glyph0-4\" x=\"354.980469\" y=\"486.71875\"/>\n",
       "  <use xlink:href=\"#glyph0-2\" x=\"361.654297\" y=\"486.71875\"/>\n",
       "  <use xlink:href=\"#glyph0-3\" x=\"364.988281\" y=\"486.71875\"/>\n",
       "</g>\n",
       "<g style=\"fill:rgb(0%,0%,0%);fill-opacity:1;\">\n",
       "  <use xlink:href=\"#glyph0-4\" x=\"406.496094\" y=\"486.71875\"/>\n",
       "  <use xlink:href=\"#glyph0-2\" x=\"413.169922\" y=\"486.71875\"/>\n",
       "  <use xlink:href=\"#glyph0-3\" x=\"416.503906\" y=\"486.71875\"/>\n",
       "</g>\n",
       "<g style=\"fill:rgb(0%,0%,0%);fill-opacity:1;\">\n",
       "  <use xlink:href=\"#glyph0-1\" x=\"433.253906\" y=\"486.71875\"/>\n",
       "  <use xlink:href=\"#glyph0-2\" x=\"439.927734\" y=\"486.71875\"/>\n",
       "  <use xlink:href=\"#glyph0-4\" x=\"443.261719\" y=\"486.71875\"/>\n",
       "</g>\n",
       "<g style=\"fill:rgb(0%,0%,0%);fill-opacity:1;\">\n",
       "  <use xlink:href=\"#glyph0-1\" x=\"460.007813\" y=\"486.71875\"/>\n",
       "  <use xlink:href=\"#glyph0-2\" x=\"466.681641\" y=\"486.71875\"/>\n",
       "  <use xlink:href=\"#glyph0-3\" x=\"470.015625\" y=\"486.71875\"/>\n",
       "</g>\n",
       "<path style=\"fill:none;stroke-width:0.75;stroke-linecap:round;stroke-linejoin:round;stroke:rgb(0%,0%,0%);stroke-opacity:1;stroke-miterlimit:10;\" d=\"M 288 441.472656 L 288 58.660156 \"/>\n",
       "<path style=\"fill:none;stroke-width:0.75;stroke-linecap:round;stroke-linejoin:round;stroke:rgb(0%,0%,0%);stroke-opacity:1;stroke-miterlimit:10;\" d=\"M 288 441.472656 L 280.800781 441.472656 \"/>\n",
       "<path style=\"fill:none;stroke-width:0.75;stroke-linecap:round;stroke-linejoin:round;stroke:rgb(0%,0%,0%);stroke-opacity:1;stroke-miterlimit:10;\" d=\"M 288 345.769531 L 280.800781 345.769531 \"/>\n",
       "<path style=\"fill:none;stroke-width:0.75;stroke-linecap:round;stroke-linejoin:round;stroke:rgb(0%,0%,0%);stroke-opacity:1;stroke-miterlimit:10;\" d=\"M 288 250.066406 L 280.800781 250.066406 \"/>\n",
       "<path style=\"fill:none;stroke-width:0.75;stroke-linecap:round;stroke-linejoin:round;stroke:rgb(0%,0%,0%);stroke-opacity:1;stroke-miterlimit:10;\" d=\"M 288 154.363281 L 280.800781 154.363281 \"/>\n",
       "<path style=\"fill:none;stroke-width:0.75;stroke-linecap:round;stroke-linejoin:round;stroke:rgb(0%,0%,0%);stroke-opacity:1;stroke-miterlimit:10;\" d=\"M 288 58.660156 L 280.800781 58.660156 \"/>\n",
       "<g style=\"fill:rgb(0%,0%,0%);fill-opacity:1;\">\n",
       "  <use xlink:href=\"#glyph1-0\" x=\"277.921875\" y=\"448.144531\"/>\n",
       "  <use xlink:href=\"#glyph1-5\" x=\"277.921875\" y=\"441.470703\"/>\n",
       "</g>\n",
       "<g style=\"fill:rgb(0%,0%,0%);fill-opacity:1;\">\n",
       "  <use xlink:href=\"#glyph1-0\" x=\"277.921875\" y=\"352.441406\"/>\n",
       "  <use xlink:href=\"#glyph1-0\" x=\"277.921875\" y=\"345.767578\"/>\n",
       "</g>\n",
       "<g style=\"fill:rgb(0%,0%,0%);fill-opacity:1;\">\n",
       "  <use xlink:href=\"#glyph1-0\" x=\"277.921875\" y=\"256.738281\"/>\n",
       "  <use xlink:href=\"#glyph1-1\" x=\"277.921875\" y=\"250.064453\"/>\n",
       "</g>\n",
       "<g style=\"fill:rgb(0%,0%,0%);fill-opacity:1;\">\n",
       "  <use xlink:href=\"#glyph1-0\" x=\"277.921875\" y=\"161.035156\"/>\n",
       "  <use xlink:href=\"#glyph1-2\" x=\"277.921875\" y=\"154.361328\"/>\n",
       "</g>\n",
       "<g style=\"fill:rgb(0%,0%,0%);fill-opacity:1;\">\n",
       "  <use xlink:href=\"#glyph1-0\" x=\"277.921875\" y=\"65.332031\"/>\n",
       "  <use xlink:href=\"#glyph1-3\" x=\"277.921875\" y=\"58.658203\"/>\n",
       "</g>\n",
       "<path style=\"fill:none;stroke-width:0.75;stroke-linecap:round;stroke-linejoin:round;stroke:rgb(0%,0%,0%);stroke-opacity:1;stroke-miterlimit:10;\" d=\"M 288 468 L 488.160156 468 L 488.160156 23.039063 L 288 23.039063 L 288 468 \"/>\n",
       "<g clip-path=\"url(#clip5)\" clip-rule=\"nonzero\">\n",
       "<g style=\"fill:rgb(0%,0%,0%);fill-opacity:1;\">\n",
       "  <use xlink:href=\"#glyph2-0\" x=\"332.074219\" y=\"16.675781\"/>\n",
       "  <use xlink:href=\"#glyph2-1\" x=\"342.473437\" y=\"16.675781\"/>\n",
       "  <use xlink:href=\"#glyph2-2\" x=\"351.269531\" y=\"16.675781\"/>\n",
       "  <use xlink:href=\"#glyph2-3\" x=\"356.873438\" y=\"16.675781\"/>\n",
       "  <use xlink:href=\"#glyph2-4\" x=\"369.677344\" y=\"16.675781\"/>\n",
       "  <use xlink:href=\"#glyph2-5\" x=\"377.685938\" y=\"16.675781\"/>\n",
       "  <use xlink:href=\"#glyph2-6\" x=\"381.686719\" y=\"16.675781\"/>\n",
       "  <use xlink:href=\"#glyph2-7\" x=\"385.6875\" y=\"16.675781\"/>\n",
       "  <use xlink:href=\"#glyph2-8\" x=\"396.888281\" y=\"16.675781\"/>\n",
       "  <use xlink:href=\"#glyph2-7\" x=\"401.683594\" y=\"16.675781\"/>\n",
       "  <use xlink:href=\"#glyph2-6\" x=\"412.884375\" y=\"16.675781\"/>\n",
       "  <use xlink:href=\"#glyph2-9\" x=\"416.885156\" y=\"16.675781\"/>\n",
       "  <use xlink:href=\"#glyph2-5\" x=\"426.489844\" y=\"16.675781\"/>\n",
       "  <use xlink:href=\"#glyph2-1\" x=\"430.490625\" y=\"16.675781\"/>\n",
       "  <use xlink:href=\"#glyph2-10\" x=\"439.286719\" y=\"16.675781\"/>\n",
       "</g>\n",
       "<g style=\"fill:rgb(0%,0%,0%);fill-opacity:1;\">\n",
       "  <use xlink:href=\"#glyph0-5\" x=\"331.382813\" y=\"501.121094\"/>\n",
       "  <use xlink:href=\"#glyph0-6\" x=\"338.712891\" y=\"501.121094\"/>\n",
       "  <use xlink:href=\"#glyph0-7\" x=\"345.386719\" y=\"501.121094\"/>\n",
       "  <use xlink:href=\"#glyph0-8\" x=\"352.060547\" y=\"501.121094\"/>\n",
       "  <use xlink:href=\"#glyph0-9\" x=\"358.734375\" y=\"501.121094\"/>\n",
       "  <use xlink:href=\"#glyph0-7\" x=\"362.730469\" y=\"501.121094\"/>\n",
       "  <use xlink:href=\"#glyph0-10\" x=\"369.404297\" y=\"501.121094\"/>\n",
       "  <use xlink:href=\"#glyph0-11\" x=\"372.738281\" y=\"501.121094\"/>\n",
       "  <use xlink:href=\"#glyph0-12\" x=\"375.404297\" y=\"501.121094\"/>\n",
       "  <use xlink:href=\"#glyph0-13\" x=\"381.404297\" y=\"501.121094\"/>\n",
       "  <use xlink:href=\"#glyph0-14\" x=\"388.078125\" y=\"501.121094\"/>\n",
       "  <use xlink:href=\"#glyph0-15\" x=\"390.744141\" y=\"501.121094\"/>\n",
       "  <use xlink:href=\"#glyph0-16\" x=\"394.078125\" y=\"501.121094\"/>\n",
       "  <use xlink:href=\"#glyph0-17\" x=\"403.412109\" y=\"501.121094\"/>\n",
       "  <use xlink:href=\"#glyph0-13\" x=\"410.085938\" y=\"501.121094\"/>\n",
       "  <use xlink:href=\"#glyph0-18\" x=\"416.759766\" y=\"501.121094\"/>\n",
       "  <use xlink:href=\"#glyph0-10\" x=\"423.433594\" y=\"501.121094\"/>\n",
       "  <use xlink:href=\"#glyph0-11\" x=\"426.767578\" y=\"501.121094\"/>\n",
       "  <use xlink:href=\"#glyph0-14\" x=\"429.433594\" y=\"501.121094\"/>\n",
       "  <use xlink:href=\"#glyph0-7\" x=\"432.099609\" y=\"501.121094\"/>\n",
       "  <use xlink:href=\"#glyph0-19\" x=\"438.773438\" y=\"501.121094\"/>\n",
       "</g>\n",
       "<g style=\"fill:rgb(0%,0%,0%);fill-opacity:1;\">\n",
       "  <use xlink:href=\"#glyph1-6\" x=\"263.519531\" y=\"292.878906\"/>\n",
       "  <use xlink:href=\"#glyph1-7\" x=\"263.519531\" y=\"284.875\"/>\n",
       "  <use xlink:href=\"#glyph1-8\" x=\"263.519531\" y=\"278.201172\"/>\n",
       "  <use xlink:href=\"#glyph1-9\" x=\"263.519531\" y=\"268.205078\"/>\n",
       "  <use xlink:href=\"#glyph1-10\" x=\"263.519531\" y=\"261.53125\"/>\n",
       "  <use xlink:href=\"#glyph1-11\" x=\"263.519531\" y=\"258.865234\"/>\n",
       "  <use xlink:href=\"#glyph1-12\" x=\"263.519531\" y=\"252.191406\"/>\n",
       "  <use xlink:href=\"#glyph1-13\" x=\"263.519531\" y=\"248.857422\"/>\n",
       "  <use xlink:href=\"#glyph1-14\" x=\"263.519531\" y=\"239.523438\"/>\n",
       "  <use xlink:href=\"#glyph1-7\" x=\"263.519531\" y=\"232.849609\"/>\n",
       "  <use xlink:href=\"#glyph1-15\" x=\"263.519531\" y=\"226.175781\"/>\n",
       "  <use xlink:href=\"#glyph1-16\" x=\"263.519531\" y=\"219.501953\"/>\n",
       "  <use xlink:href=\"#glyph1-17\" x=\"263.519531\" y=\"216.167969\"/>\n",
       "  <use xlink:href=\"#glyph1-10\" x=\"263.519531\" y=\"213.501953\"/>\n",
       "  <use xlink:href=\"#glyph1-11\" x=\"263.519531\" y=\"210.835938\"/>\n",
       "  <use xlink:href=\"#glyph1-18\" x=\"263.519531\" y=\"204.162109\"/>\n",
       "</g>\n",
       "</g>\n",
       "<g clip-path=\"url(#clip6)\" clip-rule=\"nonzero\">\n",
       "<path style=\"fill:none;stroke-width:0.75;stroke-linecap:round;stroke-linejoin:round;stroke:rgb(85.098039%,37.254902%,0.784314%);stroke-opacity:1;stroke-miterlimit:10;\" d=\"M 313.519531 504 L 464.453125 0 \"/>\n",
       "</g>\n",
       "</g>\n",
       "</svg>\n"
      ],
      "text/plain": [
       "Plot with title \"Normal Q-Q Plot\""
      ]
     },
     "metadata": {
      "image/svg+xml": {
       "isolated": true
      }
     },
     "output_type": "display_data"
    }
   ],
   "source": [
    "library(rafalib)\n",
    "mypar(1,2)\n",
    "\n",
    "qqnorm(treatment)\n",
    "qqline(treatment,col=2)\n",
    "\n",
    "qqnorm(control)\n",
    "qqline(control,col=2)"
   ]
  },
  {
   "cell_type": "code",
   "execution_count": 12,
   "metadata": {
    "collapsed": false
   },
   "outputs": [
    {
     "data": {
      "text/plain": [
       "\n",
       "\tWelch Two Sample t-test\n",
       "\n",
       "data:  treatment and control\n",
       "t = 2.0552, df = 20.236, p-value = 0.053\n",
       "alternative hypothesis: true difference in means is not equal to 0\n",
       "95 percent confidence interval:\n",
       " -0.04296563  6.08463229\n",
       "sample estimates:\n",
       "mean of x mean of y \n",
       " 26.83417  23.81333 \n"
      ]
     },
     "execution_count": 12,
     "metadata": {},
     "output_type": "execute_result"
    }
   ],
   "source": [
    "t.test(treatment,control)"
   ]
  },
  {
   "cell_type": "code",
   "execution_count": 14,
   "metadata": {
    "collapsed": false
   },
   "outputs": [
    {
     "data": {
      "text/html": [
       "0.0529988787453232"
      ],
      "text/latex": [
       "0.0529988787453232"
      ],
      "text/markdown": [
       "0.0529988787453232"
      ],
      "text/plain": [
       "[1] 0.05299888"
      ]
     },
     "execution_count": 14,
     "metadata": {},
     "output_type": "execute_result"
    }
   ],
   "source": [
    "result <- t.test(treatment,control)\n",
    "result$p.value"
   ]
  },
  {
   "cell_type": "code",
   "execution_count": 15,
   "metadata": {
    "collapsed": true
   },
   "outputs": [],
   "source": [
    "#The p-value is bigger than with the CLT approximation.  \n",
    "#in calculating t-statistic the CLT takes the denominator\n",
    "#of tstat to be fixed (as it should be largely fixed with large sample sizes)\n",
    "#With a smaller sample size, there is an increase in variation"
   ]
  },
  {
   "cell_type": "markdown",
   "metadata": {},
   "source": [
    "# t-test in practice"
   ]
  },
  {
   "cell_type": "code",
   "execution_count": 16,
   "metadata": {
    "collapsed": false
   },
   "outputs": [
    {
     "data": {
      "text/html": [
       "<ol class=list-inline>\n",
       "\t<li>\"adequatepop.csv\"</li>\n",
       "\t<li>\"adequatewater.csv\"</li>\n",
       "\t<li>\"femaleControlsPopulation.csv\"</li>\n",
       "\t<li>\"femalemiceweights.csv\"</li>\n",
       "\t<li>\"inadequate.csv\"</li>\n",
       "\t<li>\"mice_pheno.csv\"</li>\n",
       "\t<li>\"MicephenotypeCLTapproximations.ipynb\"</li>\n",
       "\t<li>\"Rbasics.ipynb\"</li>\n",
       "\t<li>\"rpractmice.ipynb\"</li>\n",
       "\t<li>\"waterterpenestatusRosmarinus.csv\"</li>\n",
       "\t<li>\"WorkingWithPvaluesAndTstat.ipynb\"</li>\n",
       "</ol>\n"
      ],
      "text/latex": [
       "\\begin{enumerate*}\n",
       "\\item \"adequatepop.csv\"\n",
       "\\item \"adequatewater.csv\"\n",
       "\\item \"femaleControlsPopulation.csv\"\n",
       "\\item \"femalemiceweights.csv\"\n",
       "\\item \"inadequate.csv\"\n",
       "\\item \"mice_pheno.csv\"\n",
       "\\item \"MicephenotypeCLTapproximations.ipynb\"\n",
       "\\item \"Rbasics.ipynb\"\n",
       "\\item \"rpractmice.ipynb\"\n",
       "\\item \"waterterpenestatusRosmarinus.csv\"\n",
       "\\item \"WorkingWithPvaluesAndTstat.ipynb\"\n",
       "\\end{enumerate*}\n"
      ],
      "text/markdown": [
       "1. \"adequatepop.csv\"\n",
       "2. \"adequatewater.csv\"\n",
       "3. \"femaleControlsPopulation.csv\"\n",
       "4. \"femalemiceweights.csv\"\n",
       "5. \"inadequate.csv\"\n",
       "6. \"mice_pheno.csv\"\n",
       "7. \"MicephenotypeCLTapproximations.ipynb\"\n",
       "8. \"Rbasics.ipynb\"\n",
       "9. \"rpractmice.ipynb\"\n",
       "10. \"waterterpenestatusRosmarinus.csv\"\n",
       "11. \"WorkingWithPvaluesAndTstat.ipynb\"\n",
       "\n",
       "\n"
      ],
      "text/plain": [
       " [1] \"adequatepop.csv\"                     \n",
       " [2] \"adequatewater.csv\"                   \n",
       " [3] \"femaleControlsPopulation.csv\"        \n",
       " [4] \"femalemiceweights.csv\"               \n",
       " [5] \"inadequate.csv\"                      \n",
       " [6] \"mice_pheno.csv\"                      \n",
       " [7] \"MicephenotypeCLTapproximations.ipynb\"\n",
       " [8] \"Rbasics.ipynb\"                       \n",
       " [9] \"rpractmice.ipynb\"                    \n",
       "[10] \"waterterpenestatusRosmarinus.csv\"    \n",
       "[11] \"WorkingWithPvaluesAndTstat.ipynb\"    "
      ]
     },
     "execution_count": 16,
     "metadata": {},
     "output_type": "execute_result"
    }
   ],
   "source": [
    "dir()"
   ]
  },
  {
   "cell_type": "code",
   "execution_count": 17,
   "metadata": {
    "collapsed": false
   },
   "outputs": [
    {
     "data": {
      "text/plain": [
       "\n",
       "\tWelch Two Sample t-test\n",
       "\n",
       "data:  treatment and control\n",
       "t = 7.1932, df = 735.02, p-value = 1.563e-12\n",
       "alternative hypothesis: true difference in means is not equal to 0\n",
       "95 percent confidence interval:\n",
       " 2.231533 3.906857\n",
       "sample estimates:\n",
       "mean of x mean of y \n",
       " 30.48201  27.41281 \n"
      ]
     },
     "execution_count": 17,
     "metadata": {},
     "output_type": "execute_result"
    }
   ],
   "source": [
    "#NOTE:Arguments for t.test function can be data.frame, \n",
    "#conversion into numeric vectors isnt required\n",
    "\n",
    "dat <- read.csv('mice_pheno.csv')\n",
    "control <- filter(dat,Diet=='chow') %>% select(Bodyweight)\n",
    "treatment <- filter(dat,Diet=='hf') %>% select(Bodyweight)\n",
    "t.test(treatment,control)\n"
   ]
  },
  {
   "cell_type": "code",
   "execution_count": 19,
   "metadata": {
    "collapsed": false
   },
   "outputs": [
    {
     "data": {
      "text/html": [
       "1.56294093760308e-12"
      ],
      "text/latex": [
       "1.56294093760308e-12"
      ],
      "text/markdown": [
       "1.56294093760308e-12"
      ],
      "text/plain": [
       "[1] 1.562941e-12"
      ]
     },
     "execution_count": 19,
     "metadata": {},
     "output_type": "execute_result"
    }
   ],
   "source": [
    "res <- t.test(treatment,control)\n",
    "res$p.value"
   ]
  },
  {
   "cell_type": "code",
   "execution_count": null,
   "metadata": {
    "collapsed": true
   },
   "outputs": [],
   "source": []
  }
 ],
 "metadata": {
  "kernelspec": {
   "display_name": "R",
   "language": "R",
   "name": "ir"
  },
  "language_info": {
   "codemirror_mode": "r",
   "file_extension": ".r",
   "mimetype": "text/x-r-source",
   "name": "R",
   "pygments_lexer": "r",
   "version": "3.2.3"
  }
 },
 "nbformat": 4,
 "nbformat_minor": 0
}
