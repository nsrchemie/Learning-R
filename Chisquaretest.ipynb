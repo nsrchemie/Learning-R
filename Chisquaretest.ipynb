{
 "cells": [
  {
   "cell_type": "code",
   "execution_count": 1,
   "metadata": {
    "collapsed": true
   },
   "outputs": [],
   "source": [
    "#Manhattan plots are common in genome wide association studies\n",
    "#in Manhattan plots the y-axis is the negative of log base 10 of p-values for association tests\n",
    "#the p-values are applied at millions of single nucleotide polymorphisms\n",
    "#The x-axis is listed by Chromosome (1-22,X,Y). The x p-values are also taken similarly to the fisher test\n",
    "#Chi-square test is useful"
   ]
  },
  {
   "cell_type": "code",
   "execution_count": 2,
   "metadata": {
    "collapsed": true
   },
   "outputs": [],
   "source": [
    "#We have 250 people, some have a disease, the rest don't\n",
    "#twenty percent of indiviuals that are homozygous for the minor allele (aa) have the disease\n",
    "#the rest are 10%"
   ]
  },
  {
   "cell_type": "code",
   "execution_count": 3,
   "metadata": {
    "collapsed": false
   },
   "outputs": [
    {
     "data": {
      "text/html": [
       "<table>\n",
       "<thead><tr><th></th><th scope=col>disease</th><th scope=col>genotype</th></tr></thead>\n",
       "<tbody>\n",
       "\t<tr><th scope=row>4</th><td>control</td><td>AA/Aa</td></tr>\n",
       "\t<tr><th scope=row>7</th><td>control</td><td>AA/Aa</td></tr>\n",
       "\t<tr><th scope=row>171</th><td>control</td><td>AA/Aa</td></tr>\n",
       "\t<tr><th scope=row>27</th><td>control</td><td>AA/Aa</td></tr>\n",
       "\t<tr><th scope=row>148</th><td>control</td><td>AA/Aa</td></tr>\n",
       "\t<tr><th scope=row>181</th><td>cases</td><td>AA/Aa</td></tr>\n",
       "</tbody>\n",
       "</table>\n"
      ],
      "text/latex": [
       "\\begin{tabular}{r|ll}\n",
       "  & disease & genotype\\\\\n",
       "\\hline\n",
       "\t4 & control & AA/Aa\\\\\n",
       "\t7 & control & AA/Aa\\\\\n",
       "\t171 & control & AA/Aa\\\\\n",
       "\t27 & control & AA/Aa\\\\\n",
       "\t148 & control & AA/Aa\\\\\n",
       "\t181 & cases & AA/Aa\\\\\n",
       "\\end{tabular}\n"
      ],
      "text/plain": [
       "    disease genotype\n",
       "4   control    AA/Aa\n",
       "7   control    AA/Aa\n",
       "171 control    AA/Aa\n",
       "27  control    AA/Aa\n",
       "148 control    AA/Aa\n",
       "181   cases    AA/Aa"
      ]
     },
     "execution_count": 3,
     "metadata": {},
     "output_type": "execute_result"
    }
   ],
   "source": [
    "disease <- factor(c(rep(0,180),rep(1,20),rep(0,40),rep(1,10)),\n",
    "                  labels=c('control','cases'))\n",
    "genotype <- factor(c(rep('AA/Aa',200),rep('aa',50)),\n",
    "                  levels=c('AA/Aa','aa'))\n",
    "dat <- data.frame(disease,genotype)\n",
    "dat <- dat[sample(nrow(dat)),] #shuffle\n",
    "head(dat)"
   ]
  },
  {
   "cell_type": "code",
   "execution_count": 4,
   "metadata": {
    "collapsed": false
   },
   "outputs": [
    {
     "data": {
      "text/plain": [
       "genotype\n",
       "AA/Aa    aa \n",
       "  200    50 "
      ]
     },
     "execution_count": 4,
     "metadata": {},
     "output_type": "execute_result"
    },
    {
     "data": {
      "text/plain": [
       "disease\n",
       "control   cases \n",
       "    220      30 "
      ]
     },
     "execution_count": 4,
     "metadata": {},
     "output_type": "execute_result"
    }
   ],
   "source": [
    "#Create table that calculates frequency\n",
    "table(genotype)\n",
    "table(disease)"
   ]
  },
  {
   "cell_type": "code",
   "execution_count": 5,
   "metadata": {
    "collapsed": false
   },
   "outputs": [
    {
     "data": {
      "text/plain": [
       "        disease\n",
       "genotype control cases\n",
       "   AA/Aa     180    20\n",
       "   aa         40    10"
      ]
     },
     "execution_count": 5,
     "metadata": {},
     "output_type": "execute_result"
    }
   ],
   "source": [
    "#Create two by two table with both factors\n",
    "tab <- table(genotype,disease)\n",
    "tab"
   ]
  },
  {
   "cell_type": "code",
   "execution_count": 6,
   "metadata": {
    "collapsed": false
   },
   "outputs": [
    {
     "data": {
      "text/html": [
       "0.12"
      ],
      "text/latex": [
       "0.12"
      ],
      "text/markdown": [
       "0.12"
      ],
      "text/plain": [
       "[1] 0.12"
      ]
     },
     "execution_count": 6,
     "metadata": {},
     "output_type": "execute_result"
    }
   ],
   "source": [
    "#Compute p-value\n",
    "#Assume no association between genotype and disease\n",
    "#and compute what expected in each table cell\n",
    "#Assume null hypothesis, group of 200 individuals and group of 50 each\n",
    "#randomly assigned disease with same probability\n",
    "p <- mean(disease=='cases')\n",
    "p"
   ]
  },
  {
   "cell_type": "code",
   "execution_count": 7,
   "metadata": {
    "collapsed": false
   },
   "outputs": [
    {
     "data": {
      "text/html": [
       "<table>\n",
       "<thead><tr><th></th><th scope=col>control</th><th scope=col>cases</th></tr></thead>\n",
       "<tbody>\n",
       "\t<tr><th scope=row>AA/Aa</th><td>176</td><td> 24</td></tr>\n",
       "\t<tr><th scope=row>aa</th><td>44</td><td> 6</td></tr>\n",
       "</tbody>\n",
       "</table>\n"
      ],
      "text/latex": [
       "\\begin{tabular}{r|ll}\n",
       "  & control & cases\\\\\n",
       "\\hline\n",
       "\tAA/Aa & 176 &  24\\\\\n",
       "\taa & 44 &  6\\\\\n",
       "\\end{tabular}\n"
      ],
      "text/markdown": [
       "1. 176\n",
       "2. 44\n",
       "3. 24\n",
       "4. 6\n",
       "\n",
       "\n"
      ],
      "text/plain": [
       "        disease\n",
       "genotype control cases\n",
       "   AA/Aa     176    24\n",
       "   aa         44     6"
      ]
     },
     "execution_count": 7,
     "metadata": {},
     "output_type": "execute_result"
    }
   ],
   "source": [
    "expected <- rbind(c(1-p,p)*sum(genotype=='AA/Aa'),\n",
    "                 c(1-p,p)*sum(genotype=='aa'))\n",
    "dimnames(expected) <- dimnames(tab)\n",
    "expected"
   ]
  },
  {
   "cell_type": "code",
   "execution_count": 8,
   "metadata": {
    "collapsed": false
   },
   "outputs": [
    {
     "data": {
      "text/html": [
       "0.0885743489508046"
      ],
      "text/latex": [
       "0.0885743489508046"
      ],
      "text/markdown": [
       "0.0885743489508046"
      ],
      "text/plain": [
       "[1] 0.08857435"
      ]
     },
     "execution_count": 8,
     "metadata": {},
     "output_type": "execute_result"
    }
   ],
   "source": [
    "#Chi-square test\n",
    "chisq.test(tab)$p.value"
   ]
  },
  {
   "cell_type": "code",
   "execution_count": 9,
   "metadata": {
    "collapsed": false
   },
   "outputs": [
    {
     "data": {
      "text/html": [
       "1.21962385600211e-09"
      ],
      "text/latex": [
       "1.21962385600211e-09"
      ],
      "text/markdown": [
       "1.21962385600211e-09"
      ],
      "text/plain": [
       "[1] 1.219624e-09"
      ]
     },
     "execution_count": 9,
     "metadata": {},
     "output_type": "execute_result"
    }
   ],
   "source": [
    "#Increasing sample size reduces p-value similarly to t-test under alt. hyp\n",
    "tab <- tab*10\n",
    "chisq.test(tab)$p.value"
   ]
  },
  {
   "cell_type": "code",
   "execution_count": 11,
   "metadata": {
    "collapsed": false
   },
   "outputs": [
    {
     "data": {
      "text/html": [
       "<table>\n",
       "<thead><tr><th></th><th scope=col>Estimate</th><th scope=col>Std. Error</th><th scope=col>z value</th><th scope=col>Pr(>|z|)</th></tr></thead>\n",
       "<tbody>\n",
       "\t<tr><th scope=row>(Intercept)</th><td>-2.197225e+00</td><td> 2.356828e-01</td><td>-9.322803e+00</td><td> 1.133070e-20</td></tr>\n",
       "\t<tr><th scope=row>genotypeaa</th><td>0.81093020</td><td>0.42490745</td><td>1.90848668</td><td>0.05632834</td></tr>\n",
       "</tbody>\n",
       "</table>\n"
      ],
      "text/latex": [
       "\\begin{tabular}{r|llll}\n",
       "  & Estimate & Std. Error & z value & Pr(>|z|)\\\\\n",
       "\\hline\n",
       "\t(Intercept) & -2.197225e+00 &  2.356828e-01 & -9.322803e+00 &  1.133070e-20\\\\\n",
       "\tgenotypeaa & 0.81093020 & 0.42490745 & 1.90848668 & 0.05632834\\\\\n",
       "\\end{tabular}\n"
      ],
      "text/markdown": [
       "1. -2.19722456035744\n",
       "2. 0.810930199237752\n",
       "3. 0.235682836441653\n",
       "4. 0.424907445888394\n",
       "5. -9.32280260001622\n",
       "6. 1.9084866765332\n",
       "7. 1.13307035380675e-20\n",
       "8. 0.0563283435765144\n",
       "\n",
       "\n"
      ],
      "text/plain": [
       "              Estimate Std. Error   z value     Pr(>|z|)\n",
       "(Intercept) -2.1972246  0.2356828 -9.322803 1.133070e-20\n",
       "genotypeaa   0.8109302  0.4249074  1.908487 5.632834e-02"
      ]
     },
     "execution_count": 11,
     "metadata": {},
     "output_type": "execute_result"
    }
   ],
   "source": [
    "#Confidence intervals for Odd ratio\n",
    "#Keep in mind the OR is a ratio of ratios, so we cant simply use CLT\n",
    "#One approach is estimating log odds ratio that can be shown to be asymptoically normal\n",
    "#Generalized linear model Theory\n",
    "fit <- glm(disease~genotype,family='binomial',data=dat)\n",
    "coeftab <-summary(fit)$coef\n",
    "coeftab"
   ]
  },
  {
   "cell_type": "code",
   "execution_count": 12,
   "metadata": {
    "collapsed": false
   },
   "outputs": [
    {
     "data": {
      "text/html": [
       "<ol class=list-inline>\n",
       "\t<li>0.961861612572593</li>\n",
       "\t<li>5.26323096994355</li>\n",
       "</ol>\n"
      ],
      "text/latex": [
       "\\begin{enumerate*}\n",
       "\\item 0.961861612572593\n",
       "\\item 5.26323096994355\n",
       "\\end{enumerate*}\n"
      ],
      "text/markdown": [
       "1. 0.961861612572593\n",
       "2. 5.26323096994355\n",
       "\n",
       "\n"
      ],
      "text/plain": [
       "[1] 0.9618616 5.2632310"
      ]
     },
     "execution_count": 12,
     "metadata": {},
     "output_type": "execute_result"
    }
   ],
   "source": [
    "#Assume normal distribution\n",
    "#generate confidence interval\n",
    "ci <- coeftab[2,1] + c(-2,2)*coeftab[2,2]\n",
    "exp(ci)"
   ]
  },
  {
   "cell_type": "code",
   "execution_count": null,
   "metadata": {
    "collapsed": true
   },
   "outputs": [],
   "source": []
  }
 ],
 "metadata": {
  "kernelspec": {
   "display_name": "R",
   "language": "R",
   "name": "ir"
  },
  "language_info": {
   "codemirror_mode": "r",
   "file_extension": ".r",
   "mimetype": "text/x-r-source",
   "name": "R",
   "pygments_lexer": "r",
   "version": "3.2.3"
  }
 },
 "nbformat": 4,
 "nbformat_minor": 0
}
